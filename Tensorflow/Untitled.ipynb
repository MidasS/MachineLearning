{
 "cells": [
  {
   "cell_type": "code",
   "execution_count": 33,
   "metadata": {
    "collapsed": false
   },
   "outputs": [],
   "source": [
    "import tensorflow as tf\n",
    "import matplotlib.pyplot as plt\n",
    "%matplotlib inline"
   ]
  },
  {
   "cell_type": "code",
   "execution_count": 25,
   "metadata": {
    "collapsed": true
   },
   "outputs": [],
   "source": [
    "X = [1., 2., 3.]\n",
    "Y = [1., 2., 3.]\n",
    "m = n_samples = len(X)"
   ]
  },
  {
   "cell_type": "code",
   "execution_count": 26,
   "metadata": {
    "collapsed": true
   },
   "outputs": [],
   "source": [
    "W = tf.placeholder(tf.float32)"
   ]
  },
  {
   "cell_type": "code",
   "execution_count": 27,
   "metadata": {
    "collapsed": true
   },
   "outputs": [],
   "source": [
    "hypothesis = tf.mul(X,W)"
   ]
  },
  {
   "cell_type": "code",
   "execution_count": 28,
   "metadata": {
    "collapsed": false
   },
   "outputs": [],
   "source": [
    "cost = tf.reduce_sum(tf.pow(hypothesis-Y,2)/(m))"
   ]
  },
  {
   "cell_type": "code",
   "execution_count": 29,
   "metadata": {
    "collapsed": false
   },
   "outputs": [],
   "source": [
    "init = tf.global_variables_initializer()"
   ]
  },
  {
   "cell_type": "code",
   "execution_count": 30,
   "metadata": {
    "collapsed": true
   },
   "outputs": [],
   "source": [
    "W_val = []\n",
    "cost_val = []"
   ]
  },
  {
   "cell_type": "code",
   "execution_count": 31,
   "metadata": {
    "collapsed": false
   },
   "outputs": [
    {
     "name": "stdout",
     "output_type": "stream",
     "text": [
      "-3.0 74.6667\n",
      "-2.9000000000000004 70.98\n",
      "-2.8000000000000003 67.3867\n",
      "-2.7 63.8867\n",
      "-2.6 60.48\n",
      "-2.5 57.1667\n",
      "-2.4000000000000004 53.9467\n",
      "-2.3000000000000003 50.82\n",
      "-2.2 47.7867\n",
      "-2.1 44.8467\n",
      "-2.0 42.0\n",
      "-1.9000000000000001 39.2467\n",
      "-1.8 36.5867\n",
      "-1.7000000000000002 34.02\n",
      "-1.6 31.5467\n",
      "-1.5 29.1667\n",
      "-1.4000000000000001 26.88\n",
      "-1.3 24.6867\n",
      "-1.2000000000000002 22.5867\n",
      "-1.1 20.58\n",
      "-1.0 18.6667\n",
      "-0.9 16.8467\n",
      "-0.8 15.12\n",
      "-0.7000000000000001 13.4867\n",
      "-0.6000000000000001 11.9467\n",
      "-0.5 10.5\n",
      "-0.4 9.14667\n",
      "-0.30000000000000004 7.88667\n",
      "-0.2 6.72\n",
      "-0.1 5.64667\n",
      "0.0 4.66667\n",
      "0.1 3.78\n",
      "0.2 2.98667\n",
      "0.30000000000000004 2.28667\n",
      "0.4 1.68\n",
      "0.5 1.16667\n",
      "0.6000000000000001 0.746667\n",
      "0.7000000000000001 0.42\n",
      "0.8 0.186667\n",
      "0.9 0.0466667\n",
      "1.0 0.0\n",
      "1.1 0.0466667\n",
      "1.2000000000000002 0.186667\n",
      "1.3 0.42\n",
      "1.4000000000000001 0.746667\n",
      "1.5 1.16667\n",
      "1.6 1.68\n",
      "1.7000000000000002 2.28667\n",
      "1.8 2.98667\n",
      "1.9000000000000001 3.78\n",
      "2.0 4.66667\n",
      "2.1 5.64667\n",
      "2.2 6.72\n",
      "2.3000000000000003 7.88667\n",
      "2.4000000000000004 9.14667\n",
      "2.5 10.5\n",
      "2.6 11.9467\n",
      "2.7 13.4867\n",
      "2.8000000000000003 15.12\n",
      "2.9000000000000004 16.8467\n",
      "3.0 18.6667\n",
      "3.1 20.58\n",
      "3.2 22.5867\n",
      "3.3000000000000003 24.6867\n",
      "3.4000000000000004 26.88\n",
      "3.5 29.1667\n",
      "3.6 31.5467\n",
      "3.7 34.02\n",
      "3.8000000000000003 36.5867\n",
      "3.9000000000000004 39.2467\n",
      "4.0 42.0\n",
      "4.1000000000000005 44.8467\n",
      "4.2 47.7867\n",
      "4.3 50.82\n",
      "4.4 53.9467\n",
      "4.5 57.1667\n",
      "4.6000000000000005 60.48\n",
      "4.7 63.8867\n",
      "4.800000000000001 67.3867\n",
      "4.9 70.98\n"
     ]
    }
   ],
   "source": [
    "sess = tf.Session()\n",
    "sess.run(init)\n",
    "for i in range(-30,50):\n",
    "    print (i*0.1, sess.run(cost, feed_dict={W: i*0.1}))\n",
    "    W_val.append(i*0.1)\n",
    "    cost_val.append(sess.run(cost, feed_dict={W: i*0.1}))"
   ]
  },
  {
   "cell_type": "code",
   "execution_count": 34,
   "metadata": {
    "collapsed": false
   },
   "outputs": [
    {
     "data": {
      "image/png": "[encoded data removed]",
      "text/plain": [
       "<matplotlib.figure.Figure at 0x114e1b470>"
      ]
     },
     "metadata": {},
     "output_type": "display_data"
    }
   ],
   "source": [
    "plt.plot(W_val, cost_val, 'ro')\n",
    "plt.ylabel('Cost')\n",
    "plt.xlabel('W')\n",
    "plt.show()"
   ]
  },
  {
   "cell_type": "code",
   "execution_count": null,
   "metadata": {
    "collapsed": true
   },
   "outputs": [],
   "source": []
  },
  {
   "cell_type": "code",
   "execution_count": null,
   "metadata": {
    "collapsed": true
   },
   "outputs": [],
   "source": []
  }
 ],
 "metadata": {
  "kernelspec": {
   "display_name": "Python [default]",
   "language": "python",
   "name": "python3"
  },
  "language_info": {
   "codemirror_mode": {
    "name": "ipython",
    "version": 3
   },
   "file_extension": ".py",
   "mimetype": "text/x-python",
   "name": "python",
   "nbconvert_exporter": "python",
   "pygments_lexer": "ipython3",
   "version": "3.5.2"
  }
 },
 "nbformat": 4,
 "nbformat_minor": 1
}
