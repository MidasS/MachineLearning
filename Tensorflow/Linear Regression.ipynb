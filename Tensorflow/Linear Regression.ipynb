{
 "cells": [
  {
   "cell_type": "code",
   "execution_count": 1,
   "metadata": {
    "collapsed": true
   },
   "outputs": [],
   "source": [
    "import tensorflow as tf"
   ]
  },
  {
   "cell_type": "code",
   "execution_count": 2,
   "metadata": {
    "collapsed": true
   },
   "outputs": [],
   "source": [
    "x_data = [1,2,3]"
   ]
  },
  {
   "cell_type": "code",
   "execution_count": 3,
   "metadata": {
    "collapsed": true
   },
   "outputs": [],
   "source": [
    "y_data = [1.,2.,3.]"
   ]
  },
  {
   "cell_type": "code",
   "execution_count": 19,
   "metadata": {
    "collapsed": true
   },
   "outputs": [],
   "source": [
    "W = tf.Variable(tf.random_uniform([1],-1.0,1.0))\n",
    "b = tf.Variable(tf.random_uniform([1],-1.0,1.0))"
   ]
  },
  {
   "cell_type": "code",
   "execution_count": 21,
   "metadata": {
    "collapsed": true
   },
   "outputs": [],
   "source": [
    "X = tf.placeholder(tf.float32)\n",
    "Y = tf.placeholder(tf.float32)"
   ]
  },
  {
   "cell_type": "code",
   "execution_count": 22,
   "metadata": {
    "collapsed": false
   },
   "outputs": [],
   "source": [
    "hypothesis = W*x_data + b"
   ]
  },
  {
   "cell_type": "code",
   "execution_count": 23,
   "metadata": {
    "collapsed": false
   },
   "outputs": [],
   "source": [
    "cost = tf.reduce_mean(tf.square(hypothesis - y_data))"
   ]
  },
  {
   "cell_type": "code",
   "execution_count": 24,
   "metadata": {
    "collapsed": true
   },
   "outputs": [],
   "source": [
    "a = tf.Variable(0.1)"
   ]
  },
  {
   "cell_type": "code",
   "execution_count": 25,
   "metadata": {
    "collapsed": true
   },
   "outputs": [],
   "source": [
    "optimizer = tf.train.GradientDescentOptimizer(a)\n",
    "train = optimizer.minimize(cost)"
   ]
  },
  {
   "cell_type": "code",
   "execution_count": 26,
   "metadata": {
    "collapsed": false
   },
   "outputs": [
    {
     "name": "stdout",
     "output_type": "stream",
     "text": [
      "WARNING:tensorflow:From <ipython-input-26-0f50547c66e8>:1 in <module>.: initialize_all_variables (from tensorflow.python.ops.variables) is deprecated and will be removed after 2017-03-02.\n",
      "Instructions for updating:\n",
      "Use `tf.global_variables_initializer` instead.\n"
     ]
    }
   ],
   "source": [
    "init = tf.initialize_all_variables()"
   ]
  },
  {
   "cell_type": "code",
   "execution_count": 27,
   "metadata": {
    "collapsed": true
   },
   "outputs": [],
   "source": [
    "sess = tf.Session()"
   ]
  },
  {
   "cell_type": "code",
   "execution_count": 28,
   "metadata": {
    "collapsed": true
   },
   "outputs": [],
   "source": [
    "sess.run(init)"
   ]
  },
  {
   "cell_type": "code",
   "execution_count": 29,
   "metadata": {
    "collapsed": false
   },
   "outputs": [
    {
     "name": "stdout",
     "output_type": "stream",
     "text": [
      "0 0.280624 [ 1.01073086] [ 0.50820559]\n",
      "20 0.00964563 [ 0.88593262] [ 0.25930184]\n",
      "40 0.00364437 [ 0.92988551] [ 0.15938668]\n",
      "60 0.00137694 [ 0.95690227] [ 0.09797119]\n",
      "80 0.000520248 [ 0.97350883] [ 0.06022057]\n",
      "100 0.000196564 [ 0.98371655] [ 0.0370162]\n",
      "120 7.42668e-05 [ 0.98999089] [ 0.02275294]\n",
      "140 2.80601e-05 [ 0.99384767] [ 0.01398574]\n",
      "160 1.06016e-05 [ 0.99621832] [ 0.00859671]\n",
      "180 4.00563e-06 [ 0.99767548] [ 0.00528419]\n",
      "200 1.51343e-06 [ 0.99857122] [ 0.00324803]\n",
      "220 5.7174e-07 [ 0.99912173] [ 0.00199645]\n",
      "240 2.16084e-07 [ 0.99946016] [ 0.00122721]\n",
      "260 8.15988e-08 [ 0.99966818] [ 0.00075432]\n",
      "280 3.08152e-08 [ 0.99979603] [ 0.00046365]\n",
      "300 1.16472e-08 [ 0.99987459] [ 0.00028496]\n",
      "320 4.4016e-09 [ 0.99992293] [ 0.00017513]\n",
      "340 1.66098e-09 [ 0.99995261] [ 0.00010767]\n",
      "360 6.28882e-10 [ 0.99997085] [  6.62129096e-05]\n",
      "380 2.37705e-10 [ 0.99998206] [  4.06862273e-05]\n",
      "400 9.10632e-11 [ 0.99998897] [  2.50539124e-05]\n",
      "420 3.4125e-11 [ 0.99999321] [  1.53820674e-05]\n",
      "440 1.27945e-11 [ 0.99999583] [  9.47723311e-06]\n",
      "460 4.83643e-12 [ 0.99999744] [  5.82148323e-06]\n",
      "480 1.91847e-12 [ 0.99999845] [  3.60419040e-06]\n",
      "500 7.62649e-13 [ 0.99999905] [  2.22136282e-06]\n",
      "520 3.2685e-13 [ 0.9999994] [  1.37895086e-06]\n",
      "540 9.4739e-14 [ 0.99999958] [  8.38535868e-07]\n",
      "560 6.15804e-14 [ 0.99999964] [  6.55748465e-07]\n",
      "580 3.78956e-14 [ 0.99999976] [  5.28591954e-07]\n",
      "600 2.36848e-14 [ 0.99999988] [  2.50436841e-07]\n",
      "620 1.89478e-14 [ 0.99999994] [  9.14910316e-08]\n",
      "640 0.0 [ 1.] [  5.17546042e-08]\n",
      "660 0.0 [ 1.] [  5.17546042e-08]\n",
      "680 0.0 [ 1.] [  5.17546042e-08]\n",
      "700 0.0 [ 1.] [  5.17546042e-08]\n",
      "720 0.0 [ 1.] [  5.17546042e-08]\n",
      "740 0.0 [ 1.] [  5.17546042e-08]\n",
      "760 0.0 [ 1.] [  5.17546042e-08]\n",
      "780 0.0 [ 1.] [  5.17546042e-08]\n",
      "800 0.0 [ 1.] [  5.17546042e-08]\n",
      "820 0.0 [ 1.] [  5.17546042e-08]\n",
      "840 0.0 [ 1.] [  5.17546042e-08]\n",
      "860 0.0 [ 1.] [  5.17546042e-08]\n",
      "880 0.0 [ 1.] [  5.17546042e-08]\n",
      "900 0.0 [ 1.] [  5.17546042e-08]\n",
      "920 0.0 [ 1.] [  5.17546042e-08]\n",
      "940 0.0 [ 1.] [  5.17546042e-08]\n",
      "960 0.0 [ 1.] [  5.17546042e-08]\n",
      "980 0.0 [ 1.] [  5.17546042e-08]\n",
      "1000 0.0 [ 1.] [  5.17546042e-08]\n",
      "1020 0.0 [ 1.] [  5.17546042e-08]\n",
      "1040 0.0 [ 1.] [  5.17546042e-08]\n",
      "1060 0.0 [ 1.] [  5.17546042e-08]\n",
      "1080 0.0 [ 1.] [  5.17546042e-08]\n",
      "1100 0.0 [ 1.] [  5.17546042e-08]\n",
      "1120 0.0 [ 1.] [  5.17546042e-08]\n",
      "1140 0.0 [ 1.] [  5.17546042e-08]\n",
      "1160 0.0 [ 1.] [  5.17546042e-08]\n",
      "1180 0.0 [ 1.] [  5.17546042e-08]\n",
      "1200 0.0 [ 1.] [  5.17546042e-08]\n",
      "1220 0.0 [ 1.] [  5.17546042e-08]\n",
      "1240 0.0 [ 1.] [  5.17546042e-08]\n",
      "1260 0.0 [ 1.] [  5.17546042e-08]\n",
      "1280 0.0 [ 1.] [  5.17546042e-08]\n",
      "1300 0.0 [ 1.] [  5.17546042e-08]\n",
      "1320 0.0 [ 1.] [  5.17546042e-08]\n",
      "1340 0.0 [ 1.] [  5.17546042e-08]\n",
      "1360 0.0 [ 1.] [  5.17546042e-08]\n",
      "1380 0.0 [ 1.] [  5.17546042e-08]\n",
      "1400 0.0 [ 1.] [  5.17546042e-08]\n",
      "1420 0.0 [ 1.] [  5.17546042e-08]\n",
      "1440 0.0 [ 1.] [  5.17546042e-08]\n",
      "1460 0.0 [ 1.] [  5.17546042e-08]\n",
      "1480 0.0 [ 1.] [  5.17546042e-08]\n",
      "1500 0.0 [ 1.] [  5.17546042e-08]\n",
      "1520 0.0 [ 1.] [  5.17546042e-08]\n",
      "1540 0.0 [ 1.] [  5.17546042e-08]\n",
      "1560 0.0 [ 1.] [  5.17546042e-08]\n",
      "1580 0.0 [ 1.] [  5.17546042e-08]\n",
      "1600 0.0 [ 1.] [  5.17546042e-08]\n",
      "1620 0.0 [ 1.] [  5.17546042e-08]\n",
      "1640 0.0 [ 1.] [  5.17546042e-08]\n",
      "1660 0.0 [ 1.] [  5.17546042e-08]\n",
      "1680 0.0 [ 1.] [  5.17546042e-08]\n",
      "1700 0.0 [ 1.] [  5.17546042e-08]\n",
      "1720 0.0 [ 1.] [  5.17546042e-08]\n",
      "1740 0.0 [ 1.] [  5.17546042e-08]\n",
      "1760 0.0 [ 1.] [  5.17546042e-08]\n",
      "1780 0.0 [ 1.] [  5.17546042e-08]\n",
      "1800 0.0 [ 1.] [  5.17546042e-08]\n",
      "1820 0.0 [ 1.] [  5.17546042e-08]\n",
      "1840 0.0 [ 1.] [  5.17546042e-08]\n",
      "1860 0.0 [ 1.] [  5.17546042e-08]\n",
      "1880 0.0 [ 1.] [  5.17546042e-08]\n",
      "1900 0.0 [ 1.] [  5.17546042e-08]\n",
      "1920 0.0 [ 1.] [  5.17546042e-08]\n",
      "1940 0.0 [ 1.] [  5.17546042e-08]\n",
      "1960 0.0 [ 1.] [  5.17546042e-08]\n",
      "1980 0.0 [ 1.] [  5.17546042e-08]\n",
      "2000 0.0 [ 1.] [  5.17546042e-08]\n"
     ]
    }
   ],
   "source": [
    "for step in range(2001):\n",
    "    sess.run(train, feed_dict={X:x_data, Y:y_data})\n",
    "    if step%20 ==0:\n",
    "        print (step, sess.run(cost, feed_dict={X:x_data, Y:y_data}), sess.run(W), sess.run(b))"
   ]
  },
  {
   "cell_type": "code",
   "execution_count": null,
   "metadata": {
    "collapsed": true
   },
   "outputs": [],
   "source": [
    ""
   ]
  }
 ],
 "metadata": {
  "anaconda-cloud": {},
  "kernelspec": {
   "display_name": "Python [default]",
   "language": "python",
   "name": "python3"
  },
  "language_info": {
   "codemirror_mode": {
    "name": "ipython",
    "version": 3.0
   },
   "file_extension": ".py",
   "mimetype": "text/x-python",
   "name": "python",
   "nbconvert_exporter": "python",
   "pygments_lexer": "ipython3",
   "version": "3.5.2"
  }
 },
 "nbformat": 4,
 "nbformat_minor": 0
}