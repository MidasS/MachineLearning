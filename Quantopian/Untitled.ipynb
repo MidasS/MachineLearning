{
 "cells": [
  {
   "cell_type": "code",
   "execution_count": 49,
   "metadata": {
    "collapsed": false
   },
   "outputs": [],
   "source": [
    "import datetime as dt\n",
    "import matplotlib.pyplot as plt\n",
    "from matplotlib import style\n",
    "from matplotlib.finance import candlestick_ohlc\n",
    "import matplotlib.dates as mdates\n",
    "import pandas as pd\n",
    "import pandas.io.data as web"
   ]
  },
  {
   "cell_type": "code",
   "execution_count": 50,
   "metadata": {
    "collapsed": true
   },
   "outputs": [],
   "source": [
    "style.use('ggplot')\n",
    "\n",
    "start = dt.datetime(2000,1,1)\n",
    "end = dt.datetime(2016,12,31)"
   ]
  },
  {
   "cell_type": "code",
   "execution_count": 51,
   "metadata": {
    "collapsed": false
   },
   "outputs": [
    {
     "name": "stdout",
     "output_type": "stream",
     "text": [
      "                  Open        High         Low       Close   Volume  \\\n",
      "Date                                                                  \n",
      "2016-12-22  208.220001  209.990005  206.500000  208.449997  3111100   \n",
      "2016-12-23  208.000000  213.449997  207.710007  213.339996  4670500   \n",
      "2016-12-27  214.880005  222.250000  214.419998  219.529999  5915700   \n",
      "2016-12-28  221.529999  223.800003  217.199997  219.740005  3782500   \n",
      "2016-12-29  218.559998  219.199997  214.119995  214.679993  4045000   \n",
      "2016-12-30  216.300003  217.500000  211.679993  213.690002  4642600   \n",
      "\n",
      "             Adj Close  \n",
      "Date                    \n",
      "2016-12-22  208.449997  \n",
      "2016-12-23  213.339996  \n",
      "2016-12-27  219.529999  \n",
      "2016-12-28  219.740005  \n",
      "2016-12-29  214.679993  \n",
      "2016-12-30  213.690002  \n"
     ]
    }
   ],
   "source": [
    "df = web.DataReader('TSLA', 'yahoo', start, end)\n",
    "print(df.tail(6))"
   ]
  },
  {
   "cell_type": "code",
   "execution_count": 52,
   "metadata": {
    "collapsed": false
   },
   "outputs": [],
   "source": [
    "df.to_csv('tsla.csv')"
   ]
  },
  {
   "cell_type": "code",
   "execution_count": 53,
   "metadata": {
    "collapsed": false
   },
   "outputs": [
    {
     "name": "stdout",
     "output_type": "stream",
     "text": [
      "                 open       high        low      close\n",
      "Date                                                  \n",
      "2010-06-29  23.889999  23.889999  15.800000  17.459999\n",
      "2010-07-09  17.400000  20.639999  17.049999  20.639999\n",
      "2010-07-19  21.910000  21.910000  20.219999  20.719999\n",
      "2010-07-29  20.350000  21.950001  19.590000  19.590000\n",
      "2010-08-08  19.600000  19.600000  17.600000  19.150000\n"
     ]
    }
   ],
   "source": [
    "df_ohlc = df['Adj Close'].resample('10D').ohlc()\n",
    "df_volume = df['Volume'].resample('10D').sum()\n",
    "\n",
    "print(df_ohlc.head())"
   ]
  },
  {
   "cell_type": "code",
   "execution_count": 54,
   "metadata": {
    "collapsed": false
   },
   "outputs": [
    {
     "name": "stdout",
     "output_type": "stream",
     "text": [
      "                 Open   High        Low      Close    Volume  Adj Close\n",
      "Date                                                                   \n",
      "2010-06-29  19.000000  25.00  17.540001  23.889999  18766300  23.889999\n",
      "2010-06-30  25.790001  30.42  23.299999  23.830000  17187100  23.830000\n",
      "2010-07-01  25.000000  25.92  20.270000  21.959999   8218800  21.959999\n",
      "2010-07-02  23.000000  23.10  18.709999  19.200001   5139800  19.200001\n",
      "2010-07-06  20.000000  20.00  15.830000  16.110001   6866900  16.110001\n"
     ]
    }
   ],
   "source": [
    "df = pd.read_csv('tsla.csv', parse_dates=True, index_col=0)\n",
    "print(df.head())"
   ]
  },
  {
   "cell_type": "code",
   "execution_count": 57,
   "metadata": {
    "collapsed": false
   },
   "outputs": [
    {
     "name": "stdout",
     "output_type": "stream",
     "text": [
      "   level_0  index      Date       open       high        low      close\n",
      "0        0      0  733952.0  23.889999  23.889999  15.800000  17.459999\n",
      "1        1      1  733962.0  17.400000  20.639999  17.049999  20.639999\n",
      "2        2      2  733972.0  21.910000  21.910000  20.219999  20.719999\n",
      "3        3      3  733982.0  20.350000  21.950001  19.590000  19.590000\n",
      "4        4      4  733992.0  19.600000  19.600000  17.600000  19.150000\n"
     ]
    },
    {
     "ename": "AttributeError",
     "evalue": "'float' object has no attribute 'toordinal'",
     "output_type": "error",
     "traceback": [
      "\u001b[0;31m---------------------------------------------------------------------------\u001b[0m",
      "\u001b[0;31mAttributeError\u001b[0m                            Traceback (most recent call last)",
      "\u001b[0;32m<ipython-input-57-047a27b1d818>\u001b[0m in \u001b[0;36m<module>\u001b[0;34m()\u001b[0m\n\u001b[1;32m      1\u001b[0m \u001b[0mdf_ohlc\u001b[0m\u001b[1;33m.\u001b[0m\u001b[0mreset_index\u001b[0m\u001b[1;33m(\u001b[0m\u001b[0minplace\u001b[0m\u001b[1;33m=\u001b[0m\u001b[1;32mTrue\u001b[0m\u001b[1;33m)\u001b[0m\u001b[1;33m\u001b[0m\u001b[0m\n\u001b[1;32m      2\u001b[0m \u001b[0mprint\u001b[0m\u001b[1;33m(\u001b[0m\u001b[0mdf_ohlc\u001b[0m\u001b[1;33m.\u001b[0m\u001b[0mhead\u001b[0m\u001b[1;33m(\u001b[0m\u001b[1;33m)\u001b[0m\u001b[1;33m)\u001b[0m\u001b[1;33m\u001b[0m\u001b[0m\n\u001b[0;32m----> 3\u001b[0;31m \u001b[0mdf_ohlc\u001b[0m\u001b[1;33m[\u001b[0m\u001b[1;34m'Date'\u001b[0m\u001b[1;33m]\u001b[0m \u001b[1;33m=\u001b[0m \u001b[0mdf_ohlc\u001b[0m\u001b[1;33m[\u001b[0m\u001b[1;34m'Date'\u001b[0m\u001b[1;33m]\u001b[0m\u001b[1;33m.\u001b[0m\u001b[0mmap\u001b[0m\u001b[1;33m(\u001b[0m\u001b[0mmdates\u001b[0m\u001b[1;33m.\u001b[0m\u001b[0mdate2num\u001b[0m\u001b[1;33m)\u001b[0m\u001b[1;33m\u001b[0m\u001b[0m\n\u001b[0m",
      "\u001b[0;32mC:\\Program Files\\Anaconda3\\lib\\site-packages\\pandas\\core\\series.py\u001b[0m in \u001b[0;36mmap\u001b[0;34m(self, arg, na_action)\u001b[0m\n\u001b[1;32m   2102\u001b[0m             \u001b[0mnew_values\u001b[0m \u001b[1;33m=\u001b[0m \u001b[0malgos\u001b[0m\u001b[1;33m.\u001b[0m\u001b[0mtake_1d\u001b[0m\u001b[1;33m(\u001b[0m\u001b[0marg\u001b[0m\u001b[1;33m.\u001b[0m\u001b[0m_values\u001b[0m\u001b[1;33m,\u001b[0m \u001b[0mindexer\u001b[0m\u001b[1;33m)\u001b[0m\u001b[1;33m\u001b[0m\u001b[0m\n\u001b[1;32m   2103\u001b[0m         \u001b[1;32melse\u001b[0m\u001b[1;33m:\u001b[0m\u001b[1;33m\u001b[0m\u001b[0m\n\u001b[0;32m-> 2104\u001b[0;31m             \u001b[0mnew_values\u001b[0m \u001b[1;33m=\u001b[0m \u001b[0mmap_f\u001b[0m\u001b[1;33m(\u001b[0m\u001b[0mvalues\u001b[0m\u001b[1;33m,\u001b[0m \u001b[0marg\u001b[0m\u001b[1;33m)\u001b[0m\u001b[1;33m\u001b[0m\u001b[0m\n\u001b[0m\u001b[1;32m   2105\u001b[0m \u001b[1;33m\u001b[0m\u001b[0m\n\u001b[1;32m   2106\u001b[0m         return self._constructor(new_values,\n",
      "\u001b[0;32mpandas\\src\\inference.pyx\u001b[0m in \u001b[0;36mpandas.lib.map_infer (pandas\\lib.c:62658)\u001b[0;34m()\u001b[0m\n",
      "\u001b[0;32mC:\\Program Files\\Anaconda3\\lib\\site-packages\\matplotlib\\dates.py\u001b[0m in \u001b[0;36mdate2num\u001b[0;34m(d)\u001b[0m\n\u001b[1;32m    373\u001b[0m     \"\"\"\n\u001b[1;32m    374\u001b[0m     \u001b[1;32mif\u001b[0m \u001b[1;32mnot\u001b[0m \u001b[0mcbook\u001b[0m\u001b[1;33m.\u001b[0m\u001b[0miterable\u001b[0m\u001b[1;33m(\u001b[0m\u001b[0md\u001b[0m\u001b[1;33m)\u001b[0m\u001b[1;33m:\u001b[0m\u001b[1;33m\u001b[0m\u001b[0m\n\u001b[0;32m--> 375\u001b[0;31m         \u001b[1;32mreturn\u001b[0m \u001b[0m_to_ordinalf\u001b[0m\u001b[1;33m(\u001b[0m\u001b[0md\u001b[0m\u001b[1;33m)\u001b[0m\u001b[1;33m\u001b[0m\u001b[0m\n\u001b[0m\u001b[1;32m    376\u001b[0m     \u001b[1;32melse\u001b[0m\u001b[1;33m:\u001b[0m\u001b[1;33m\u001b[0m\u001b[0m\n\u001b[1;32m    377\u001b[0m         \u001b[0md\u001b[0m \u001b[1;33m=\u001b[0m \u001b[0mnp\u001b[0m\u001b[1;33m.\u001b[0m\u001b[0masarray\u001b[0m\u001b[1;33m(\u001b[0m\u001b[0md\u001b[0m\u001b[1;33m)\u001b[0m\u001b[1;33m\u001b[0m\u001b[0m\n",
      "\u001b[0;32mC:\\Program Files\\Anaconda3\\lib\\site-packages\\matplotlib\\dates.py\u001b[0m in \u001b[0;36m_to_ordinalf\u001b[0;34m(dt)\u001b[0m\n\u001b[1;32m    219\u001b[0m             \u001b[0mdt\u001b[0m \u001b[1;33m-=\u001b[0m \u001b[0mdelta\u001b[0m\u001b[1;33m\u001b[0m\u001b[0m\n\u001b[1;32m    220\u001b[0m \u001b[1;33m\u001b[0m\u001b[0m\n\u001b[0;32m--> 221\u001b[0;31m     \u001b[0mbase\u001b[0m \u001b[1;33m=\u001b[0m \u001b[0mfloat\u001b[0m\u001b[1;33m(\u001b[0m\u001b[0mdt\u001b[0m\u001b[1;33m.\u001b[0m\u001b[0mtoordinal\u001b[0m\u001b[1;33m(\u001b[0m\u001b[1;33m)\u001b[0m\u001b[1;33m)\u001b[0m\u001b[1;33m\u001b[0m\u001b[0m\n\u001b[0m\u001b[1;32m    222\u001b[0m     \u001b[1;32mif\u001b[0m \u001b[0misinstance\u001b[0m\u001b[1;33m(\u001b[0m\u001b[0mdt\u001b[0m\u001b[1;33m,\u001b[0m \u001b[0mdatetime\u001b[0m\u001b[1;33m.\u001b[0m\u001b[0mdatetime\u001b[0m\u001b[1;33m)\u001b[0m\u001b[1;33m:\u001b[0m\u001b[1;33m\u001b[0m\u001b[0m\n\u001b[1;32m    223\u001b[0m         \u001b[1;31m# Get a datetime object at midnight in the same time zone as dt.\u001b[0m\u001b[1;33m\u001b[0m\u001b[1;33m\u001b[0m\u001b[0m\n",
      "\u001b[0;31mAttributeError\u001b[0m: 'float' object has no attribute 'toordinal'"
     ]
    }
   ],
   "source": [
    "df_ohlc.reset_index(inplace=True)\n",
    "print(df_ohlc.head())\n",
    "df_ohlc['Date'] = df_ohlc['Date'].map(mdates.date2num)"
   ]
  },
  {
   "cell_type": "code",
   "execution_count": 58,
   "metadata": {
    "collapsed": true
   },
   "outputs": [],
   "source": [
    "df['100ma'] = df['Adj Close'].rolling(window=100, min_periods=0).mean()"
   ]
  },
  {
   "cell_type": "code",
   "execution_count": 28,
   "metadata": {
    "collapsed": false
   },
   "outputs": [
    {
     "name": "stdout",
     "output_type": "stream",
     "text": [
      "                  Open        High         Low       Close    Volume  \\\n",
      "Date                                                                   \n",
      "2010-06-29   19.000000   25.000000   17.540001   23.889999  18766300   \n",
      "2010-06-30   25.790001   30.420000   23.299999   23.830000  17187100   \n",
      "2010-07-01   25.000000   25.920000   20.270000   21.959999   8218800   \n",
      "2010-07-02   23.000000   23.100000   18.709999   19.200001   5139800   \n",
      "2010-07-06   20.000000   20.000000   15.830000   16.110001   6866900   \n",
      "2010-07-07   16.400000   16.629999   14.980000   15.800000   6921700   \n",
      "2010-07-08   16.139999   17.520000   15.570000   17.459999   7711400   \n",
      "2010-07-09   17.580000   17.900000   16.549999   17.400000   4050600   \n",
      "2010-07-12   17.950001   18.070000   17.000000   17.049999   2202500   \n",
      "2010-07-13   17.389999   18.639999   16.900000   18.139999   2680100   \n",
      "2010-07-14   17.940001   20.150000   17.760000   19.840000   4195200   \n",
      "2010-07-15   19.940001   21.500000   19.000000   19.889999   3739800   \n",
      "2010-07-16   20.700001   21.299999   20.049999   20.639999   2621300   \n",
      "2010-07-19   21.370001   22.250000   20.920000   21.910000   2486500   \n",
      "2010-07-20   21.850000   21.850000   20.049999   20.299999   1825300   \n",
      "2010-07-21   20.660000   20.900000   19.500000   20.219999   1252500   \n",
      "2010-07-22   20.500000   21.250000   20.370001   21.000000    957800   \n",
      "2010-07-23   21.190001   21.559999   21.059999   21.290001    653600   \n",
      "2010-07-26   21.500000   21.500000   20.299999   20.950001    922200   \n",
      "2010-07-27   20.910000   21.180000   20.260000   20.549999    619700   \n",
      "2010-07-28   20.549999   20.900000   20.510000   20.719999    467200   \n",
      "2010-07-29   20.770000   20.879999   20.000000   20.350000    616000   \n",
      "2010-07-30   20.200001   20.440001   19.549999   19.940001    426900   \n",
      "2010-08-02   20.500000   20.969999   20.330000   20.920000    718100   \n",
      "2010-08-03   21.000000   21.950001   20.820000   21.950001   1230500   \n",
      "2010-08-04   21.950001   22.180000   20.850000   21.260000    913000   \n",
      "2010-08-05   21.540001   21.549999   20.049999   20.450001    796200   \n",
      "2010-08-06   20.100000   20.160000   19.520000   19.590000    741900   \n",
      "2010-08-09   19.900000   19.980000   19.450001   19.600000    812700   \n",
      "2010-08-10   19.650000   19.650000   18.820000   19.030001   1281300   \n",
      "...                ...         ...         ...         ...       ...   \n",
      "2016-11-17  183.490005  189.490005  182.110001  188.660004   4887100   \n",
      "2016-11-18  190.649994  193.000000  185.000000  185.020004   5210300   \n",
      "2016-11-21  185.039993  188.889999  184.410004  184.520004   4361000   \n",
      "2016-11-22  185.839996  191.470001  183.710007  191.169998   5603400   \n",
      "2016-11-23  190.610001  195.639999  189.000000  193.139999   4891900   \n",
      "2016-11-25  193.639999  197.240005  193.639999  196.649994   2366100   \n",
      "2016-11-28  195.479996  199.350006  194.550003  196.119995   4529200   \n",
      "2016-11-29  195.559998  196.729996  189.500000  189.570007   4439300   \n",
      "2016-11-30  191.000000  191.889999  187.500000  189.399994   3547100   \n",
      "2016-12-01  188.250000  188.529999  181.000000  181.880005   5126400   \n",
      "2016-12-02  182.880005  184.880005  180.000000  181.470001   4042300   \n",
      "2016-12-05  182.509995  188.889999  182.509995  186.800003   4072200   \n",
      "2016-12-06  185.520004  186.580002  182.679993  185.850006   3391600   \n",
      "2016-12-07  186.149994  193.399994  185.000000  193.149994   5461900   \n",
      "2016-12-08  192.050003  192.500000  189.539993  192.289993   3194100   \n",
      "2016-12-09  190.869995  193.839996  190.809998  192.179993   2722500   \n",
      "2016-12-12  192.800003  194.419998  191.179993  192.429993   2438900   \n",
      "2016-12-13  193.179993  201.279999  193.000000  198.149994   6823900   \n",
      "2016-12-14  198.740005  203.000000  196.759995  198.690002   4150900   \n",
      "2016-12-15  198.410004  200.740005  197.389999  197.580002   3219600   \n",
      "2016-12-16  198.080002  202.589996  197.600006  202.490005   3796900   \n",
      "2016-12-19  202.490005  204.449997  199.839996  202.729996   3488100   \n",
      "2016-12-20  203.050003  209.000000  202.500000  208.789993   4689100   \n",
      "2016-12-21  208.449997  212.229996  207.410004  207.699997   5207600   \n",
      "2016-12-22  208.220001  209.990005  206.500000  208.449997   3111100   \n",
      "2016-12-23  208.000000  213.449997  207.710007  213.339996   4670500   \n",
      "2016-12-27  214.880005  222.250000  214.419998  219.529999   5915700   \n",
      "2016-12-28  221.529999  223.800003  217.199997  219.740005   3782500   \n",
      "2016-12-29  218.559998  219.199997  214.119995  214.679993   4045000   \n",
      "2016-12-30  216.300003  217.500000  211.679993  213.690002   4642600   \n",
      "\n",
      "             Adj Close       100ma  \n",
      "Date                                \n",
      "2010-06-29   23.889999   23.889999  \n",
      "2010-06-30   23.830000   23.860000  \n",
      "2010-07-01   21.959999   23.226666  \n",
      "2010-07-02   19.200001   22.220000  \n",
      "2010-07-06   16.110001   20.998000  \n",
      "2010-07-07   15.800000   20.131667  \n",
      "2010-07-08   17.459999   19.750000  \n",
      "2010-07-09   17.400000   19.456250  \n",
      "2010-07-12   17.049999   19.188889  \n",
      "2010-07-13   18.139999   19.084000  \n",
      "2010-07-14   19.840000   19.152727  \n",
      "2010-07-15   19.889999   19.214166  \n",
      "2010-07-16   20.639999   19.323846  \n",
      "2010-07-19   21.910000   19.508571  \n",
      "2010-07-20   20.299999   19.561333  \n",
      "2010-07-21   20.219999   19.602500  \n",
      "2010-07-22   21.000000   19.684705  \n",
      "2010-07-23   21.290001   19.773889  \n",
      "2010-07-26   20.950001   19.835789  \n",
      "2010-07-27   20.549999   19.871500  \n",
      "2010-07-28   20.719999   19.911904  \n",
      "2010-07-29   20.350000   19.931818  \n",
      "2010-07-30   19.940001   19.932174  \n",
      "2010-08-02   20.920000   19.973333  \n",
      "2010-08-03   21.950001   20.052400  \n",
      "2010-08-04   21.260000   20.098846  \n",
      "2010-08-05   20.450001   20.111852  \n",
      "2010-08-06   19.590000   20.093214  \n",
      "2010-08-09   19.600000   20.076207  \n",
      "2010-08-10   19.030001   20.041333  \n",
      "...                ...         ...  \n",
      "2016-11-17  188.660004  209.653900  \n",
      "2016-11-18  185.020004  209.402200  \n",
      "2016-11-21  184.520004  209.124600  \n",
      "2016-11-22  191.169998  208.871300  \n",
      "2016-11-23  193.139999  208.662900  \n",
      "2016-11-25  196.649994  208.485000  \n",
      "2016-11-28  196.119995  208.286800  \n",
      "2016-11-29  189.570007  208.014700  \n",
      "2016-11-30  189.399994  207.660900  \n",
      "2016-12-01  181.880005  207.233200  \n",
      "2016-12-02  181.470001  206.822600  \n",
      "2016-12-05  186.800003  206.475300  \n",
      "2016-12-06  185.850006  206.129800  \n",
      "2016-12-07  193.149994  205.798800  \n",
      "2016-12-08  192.289993  205.469100  \n",
      "2016-12-09  192.179993  205.107300  \n",
      "2016-12-12  192.429993  204.826600  \n",
      "2016-12-13  198.149994  204.585400  \n",
      "2016-12-14  198.690002  204.272200  \n",
      "2016-12-15  197.580002  203.952900  \n",
      "2016-12-16  202.490005  203.692900  \n",
      "2016-12-19  202.729996  203.414100  \n",
      "2016-12-20  208.789993  203.154100  \n",
      "2016-12-21  207.699997  202.931000  \n",
      "2016-12-22  208.449997  202.743500  \n",
      "2016-12-23  213.339996  202.619000  \n",
      "2016-12-27  219.529999  202.508200  \n",
      "2016-12-28  219.740005  202.405300  \n",
      "2016-12-29  214.679993  202.290500  \n",
      "2016-12-30  213.690002  202.136600  \n",
      "\n",
      "[1640 rows x 7 columns]\n"
     ]
    }
   ],
   "source": [
    "print(df)"
   ]
  },
  {
   "cell_type": "code",
   "execution_count": 29,
   "metadata": {
    "collapsed": true
   },
   "outputs": [],
   "source": [
    "# df.dropna(inplace=True)"
   ]
  },
  {
   "cell_type": "code",
   "execution_count": 34,
   "metadata": {
    "collapsed": true
   },
   "outputs": [],
   "source": [
    "ax1 = plt.subplot2grid((6,1),(0,0), rowspan=5, colspan=1)\n",
    "ax2 = plt.subplot2grid((6,1),(5,0), rowspan=1, colspan=1, sharex=ax1)"
   ]
  },
  {
   "cell_type": "code",
   "execution_count": 35,
   "metadata": {
    "collapsed": false
   },
   "outputs": [
    {
     "data": {
      "text/plain": [
       "<Container object of 1640 artists>"
      ]
     },
     "execution_count": 35,
     "metadata": {},
     "output_type": "execute_result"
    }
   ],
   "source": [
    "ax1.plot(df.index, df['Adj Close'])\n",
    "ax1.plot(df.index, df['100ma'])\n",
    "ax2.bar(df.index, df['Volume'])"
   ]
  },
  {
   "cell_type": "code",
   "execution_count": 36,
   "metadata": {
    "collapsed": false
   },
   "outputs": [
    {
     "data": {
      "image/png": "[encoded data removed]",
      "text/plain": [
       "<matplotlib.figure.Figure at 0x1f3877290b8>"
      ]
     },
     "metadata": {},
     "output_type": "display_data"
    }
   ],
   "source": [
    "plt.show()"
   ]
  },
  {
   "cell_type": "code",
   "execution_count": null,
   "metadata": {
    "collapsed": true
   },
   "outputs": [],
   "source": []
  }
 ],
 "metadata": {
  "anaconda-cloud": {},
  "kernelspec": {
   "display_name": "Python [default]",
   "language": "python",
   "name": "python3"
  },
  "language_info": {
   "codemirror_mode": {
    "name": "ipython",
    "version": 3
   },
   "file_extension": ".py",
   "mimetype": "text/x-python",
   "name": "python",
   "nbconvert_exporter": "python",
   "pygments_lexer": "ipython3",
   "version": "3.5.2"
  }
 },
 "nbformat": 4,
 "nbformat_minor": 1
}
