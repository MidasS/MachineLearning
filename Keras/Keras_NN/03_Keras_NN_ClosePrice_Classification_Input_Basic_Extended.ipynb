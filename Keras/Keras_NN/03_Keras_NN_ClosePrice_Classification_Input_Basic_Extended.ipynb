{
 "cells": [
  {
   "cell_type": "markdown",
   "metadata": {},
   "source": [
    "### Neural Network를 이용한 종가 상승/하락 예측 분류 문제\n",
    "    Input에 시,고,저,종 추가를 통한 NN 분석\n",
    "    \n"
   ]
  },
  {
   "cell_type": "code",
   "execution_count": 2,
   "metadata": {
    "collapsed": false
   },
   "outputs": [
    {
     "name": "stderr",
     "output_type": "stream",
     "text": [
      "Using TensorFlow backend.\n",
      "C:\\Program Files\\Anaconda3\\lib\\site-packages\\pandas\\io\\data.py:35: FutureWarning: \n",
      "The pandas.io.data module is moved to a separate package (pandas-datareader) and will be removed from pandas in a future version.\n",
      "After installing the pandas-datareader package (https://github.com/pydata/pandas-datareader), you can change the import ``from pandas.io import data, wb`` to ``from pandas_datareader import data, wb``.\n",
      "  FutureWarning)\n"
     ]
    }
   ],
   "source": [
    "import numpy as np\n",
    "import matplotlib.pyplot as plt\n",
    "from pandas import read_csv,Series, DataFrame\n",
    "import math\n",
    "from keras import optimizers\n",
    "from keras.models import Sequential\n",
    "from keras.layers import Dense, Dropout\n",
    "from keras.layers import LSTM\n",
    "from sklearn.preprocessing import MinMaxScaler\n",
    "from sklearn.metrics import mean_squared_error\n",
    "import pandas.io.data as web\n",
    "import datetime\n",
    "import tensorflow as tf\n",
    "from sklearn import svm, preprocessing\n",
    "import matplotlib.pyplot as plt\n",
    "import math\n",
    "from keras.layers.normalization import BatchNormalization\n",
    "%matplotlib inline\n",
    "np.set_printoptions(threshold=np.inf)\n",
    "\n"
   ]
  },
  {
   "cell_type": "code",
   "execution_count": 3,
   "metadata": {
    "collapsed": true
   },
   "outputs": [],
   "source": [
    "class KOSPIDATA:\n",
    "\n",
    "    def __init__(self):\n",
    "        start = datetime.datetime(1998, 5, 1)\n",
    "        end = datetime.datetime(2016, 12, 31)\n",
    "        kospi = web.DataReader(\"^KS11\", \"yahoo\", start, end)\n",
    "\n",
    "        self.arr_date= np.array(kospi.index)\n",
    "        self.arr_open = np.array(kospi['Open'], dtype=float)\n",
    "        self.arr_close= np.array(kospi['Adj Close'], dtype=float)\n",
    "        self.arr_high= np.array(kospi.High, dtype=float)\n",
    "        self.arr_low= np.array(kospi.Low, dtype=float)\n",
    "        self.arr_volume= np.array(kospi.Volume, dtype=float)"
   ]
  },
  {
   "cell_type": "markdown",
   "metadata": {
    "collapsed": false
   },
   "source": [
    "def create_dataset(dataset, look_back=3):\n",
    "    dataX, dataY = [], []\n",
    "    for i in range(len(dataset)-look_back-1):\n",
    "        a = dataset[i:(i+look_back)]\n",
    "        dataX.append(a)\n",
    "        \n",
    "        if dataset[i+look_back] > dataset[i+look_back-1]:    \n",
    "            dataY.append(1)\n",
    "        elif dataset[i+look_back] <= dataset[i+look_back-1]:    \n",
    "            dataY.append(0)\n",
    "\n",
    "    return np.array(dataX), np.array(dataY) "
   ]
  },
  {
   "cell_type": "code",
   "execution_count": 5,
   "metadata": {
    "collapsed": false
   },
   "outputs": [],
   "source": [
    "K = KOSPIDATA()\n",
    "\n",
    "# FEATURES = ['high', 'low', 'open', 'close', 'volume']\n",
    "FEATURES = ['high', 'low', 'open', 'close']\n",
    "\n",
    "data = {'year': K.arr_date,\n",
    "        'open': K.arr_open,\n",
    "        'high': K.arr_high,\n",
    "        'low': K.arr_low,\n",
    "        'close': K.arr_close}\n",
    "\n",
    "df = DataFrame(data, columns=['year', 'high', 'low', 'open', 'close'])\n",
    "# df = DataFrame(data, columns=['year','close'])"
   ]
  },
  {
   "cell_type": "code",
   "execution_count": 35,
   "metadata": {
    "collapsed": false
   },
   "outputs": [],
   "source": [
    "dataset = np.array(df[FEATURES].values[:-2,:])"
   ]
  },
  {
   "cell_type": "code",
   "execution_count": 37,
   "metadata": {
    "collapsed": false
   },
   "outputs": [
    {
     "data": {
      "text/plain": [
       "(4616, 4)"
      ]
     },
     "execution_count": 37,
     "metadata": {},
     "output_type": "execute_result"
    }
   ],
   "source": [
    "dataset.shape"
   ]
  },
  {
   "cell_type": "code",
   "execution_count": 26,
   "metadata": {
    "collapsed": true
   },
   "outputs": [],
   "source": [
    "def prediction():\n",
    "    profit = []\n",
    "    for i in range(len(df['close']) - 1):\n",
    "        if df['close'][i] < df['close'][i + 1]:\n",
    "            profit.append(1)\n",
    "        else:\n",
    "            profit.append(0)\n",
    "    profit = np.append(profit, np.NaN)\n",
    "    return profit"
   ]
  },
  {
   "cell_type": "code",
   "execution_count": 47,
   "metadata": {
    "collapsed": true
   },
   "outputs": [],
   "source": [
    "dataY = np.array(prediction())[:-2]"
   ]
  },
  {
   "cell_type": "code",
   "execution_count": 48,
   "metadata": {
    "collapsed": false
   },
   "outputs": [
    {
     "data": {
      "text/plain": [
       "(4616,)"
      ]
     },
     "execution_count": 48,
     "metadata": {},
     "output_type": "execute_result"
    }
   ],
   "source": [
    "dataY.shape"
   ]
  },
  {
   "cell_type": "code",
   "execution_count": 49,
   "metadata": {
    "collapsed": false
   },
   "outputs": [],
   "source": [
    "np.random.seed(7)"
   ]
  },
  {
   "cell_type": "code",
   "execution_count": 50,
   "metadata": {
    "collapsed": false
   },
   "outputs": [],
   "source": [
    "scaler = MinMaxScaler(feature_range=(0, 1))\n",
    "dataX = scaler.fit_transform(dataset)"
   ]
  },
  {
   "cell_type": "code",
   "execution_count": null,
   "metadata": {
    "collapsed": true
   },
   "outputs": [],
   "source": [
    "train_size = int(len(dataset) * 0.67)\n",
    "test_size = len(dataset) - train_size\n",
    "train, test = dataset[0:train_size], dataset[train_size:len(dataset)]"
   ]
  },
  {
   "cell_type": "markdown",
   "metadata": {
    "collapsed": false
   },
   "source": [
    "look_back = 3\n",
    "trainX, trainY = create_dataset(train, look_back)\n",
    "testX, testY = create_dataset(test, look_back)"
   ]
  },
  {
   "cell_type": "markdown",
   "metadata": {
    "collapsed": false
   },
   "source": [
    "trainX.shape, trainY.shape"
   ]
  },
  {
   "cell_type": "code",
   "execution_count": 51,
   "metadata": {
    "collapsed": false
   },
   "outputs": [
    {
     "data": {
      "text/plain": [
       "(4616, 4)"
      ]
     },
     "execution_count": 51,
     "metadata": {},
     "output_type": "execute_result"
    }
   ],
   "source": [
    "dataX.shape"
   ]
  },
  {
   "cell_type": "code",
   "execution_count": 52,
   "metadata": {
    "collapsed": false
   },
   "outputs": [
    {
     "data": {
      "text/plain": [
       "(4616,)"
      ]
     },
     "execution_count": 52,
     "metadata": {},
     "output_type": "execute_result"
    }
   ],
   "source": [
    "dataY.shape"
   ]
  },
  {
   "cell_type": "code",
   "execution_count": 62,
   "metadata": {
    "collapsed": false
   },
   "outputs": [
    {
     "name": "stdout",
     "output_type": "stream",
     "text": [
      "_________________________________________________________________\n",
      "Layer (type)                 Output Shape              Param #   \n",
      "=================================================================\n",
      "dense_13 (Dense)             (None, 10)                50        \n",
      "_________________________________________________________________\n",
      "dropout_9 (Dropout)          (None, 10)                0         \n",
      "_________________________________________________________________\n",
      "dense_14 (Dense)             (None, 8)                 88        \n",
      "_________________________________________________________________\n",
      "dropout_10 (Dropout)         (None, 8)                 0         \n",
      "_________________________________________________________________\n",
      "dense_15 (Dense)             (None, 1)                 9         \n",
      "=================================================================\n",
      "Total params: 147.0\n",
      "Trainable params: 147.0\n",
      "Non-trainable params: 0.0\n",
      "_________________________________________________________________\n",
      "None\n"
     ]
    },
    {
     "name": "stderr",
     "output_type": "stream",
     "text": [
      "C:\\Program Files\\Anaconda3\\lib\\site-packages\\keras\\models.py:826: UserWarning: The `nb_epoch` argument in `fit` has been renamed `epochs`.\n",
      "  warnings.warn('The `nb_epoch` argument in `fit` '\n"
     ]
    },
    {
     "name": "stdout",
     "output_type": "stream",
     "text": [
      "Train on 3092 samples, validate on 1524 samples\n",
      "Epoch 1/200\n",
      "3092/3092 [==============================] - 0s - loss: 0.6965 - acc: 0.5265 - val_loss: 0.6946 - val_acc: 0.4928\n",
      "Epoch 2/200\n",
      "3092/3092 [==============================] - 0s - loss: 0.6925 - acc: 0.5213 - val_loss: 0.6931 - val_acc: 0.5072\n",
      "Epoch 3/200\n",
      "3092/3092 [==============================] - 0s - loss: 0.6923 - acc: 0.5304 - val_loss: 0.7079 - val_acc: 0.5072\n",
      "Epoch 4/200\n",
      "3092/3092 [==============================] - 0s - loss: 0.6942 - acc: 0.5236 - val_loss: 0.7021 - val_acc: 0.5072\n",
      "Epoch 5/200\n",
      "3092/3092 [==============================] - 0s - loss: 0.6953 - acc: 0.5146 - val_loss: 0.6953 - val_acc: 0.5072\n",
      "Epoch 6/200\n",
      "3092/3092 [==============================] - 0s - loss: 0.6939 - acc: 0.5207 - val_loss: 0.7236 - val_acc: 0.5072\n",
      "Epoch 7/200\n",
      "3092/3092 [==============================] - 0s - loss: 0.6950 - acc: 0.5304 - val_loss: 0.6934 - val_acc: 0.5072\n",
      "Epoch 8/200\n",
      "3092/3092 [==============================] - 0s - loss: 0.6942 - acc: 0.5304 - val_loss: 0.6970 - val_acc: 0.5072\n",
      "Epoch 9/200\n",
      "3092/3092 [==============================] - 0s - loss: 0.6925 - acc: 0.5236 - val_loss: 0.7050 - val_acc: 0.5072\n",
      "Epoch 10/200\n",
      "3092/3092 [==============================] - 0s - loss: 0.6915 - acc: 0.5375 - val_loss: 0.7529 - val_acc: 0.5072\n",
      "Epoch 11/200\n",
      "3092/3092 [==============================] - 0s - loss: 0.6941 - acc: 0.5330 - val_loss: 0.7029 - val_acc: 0.5072\n",
      "Epoch 12/200\n",
      "3092/3092 [==============================] - 0s - loss: 0.6927 - acc: 0.5220 - val_loss: 0.7163 - val_acc: 0.5072\n",
      "Epoch 13/200\n",
      "3092/3092 [==============================] - 0s - loss: 0.6928 - acc: 0.5346 - val_loss: 0.6997 - val_acc: 0.5072\n",
      "Epoch 14/200\n",
      "3092/3092 [==============================] - 0s - loss: 0.6950 - acc: 0.5382 - val_loss: 0.6934 - val_acc: 0.4928\n",
      "Epoch 15/200\n",
      "3092/3092 [==============================] - 0s - loss: 0.6936 - acc: 0.5268 - val_loss: 0.6980 - val_acc: 0.5072\n",
      "Epoch 16/200\n",
      "3092/3092 [==============================] - 0s - loss: 0.6936 - acc: 0.5236 - val_loss: 0.6931 - val_acc: 0.5072\n",
      "Epoch 17/200\n",
      "3092/3092 [==============================] - 0s - loss: 0.6922 - acc: 0.5259 - val_loss: 0.7047 - val_acc: 0.5072\n",
      "Epoch 18/200\n",
      "3092/3092 [==============================] - 0s - loss: 0.6936 - acc: 0.5236 - val_loss: 0.6944 - val_acc: 0.4928\n",
      "Epoch 19/200\n",
      "3092/3092 [==============================] - 0s - loss: 0.6945 - acc: 0.5201 - val_loss: 0.6931 - val_acc: 0.5072\n",
      "Epoch 20/200\n",
      "3092/3092 [==============================] - 0s - loss: 0.6934 - acc: 0.5343 - val_loss: 0.6934 - val_acc: 0.5072\n",
      "Epoch 21/200\n",
      "3092/3092 [==============================] - 0s - loss: 0.6948 - acc: 0.5262 - val_loss: 0.7085 - val_acc: 0.5072\n",
      "Epoch 22/200\n",
      "3092/3092 [==============================] - 0s - loss: 0.6959 - acc: 0.5353 - val_loss: 0.7065 - val_acc: 0.5072\n",
      "Epoch 23/200\n",
      "3092/3092 [==============================] - 0s - loss: 0.6946 - acc: 0.5301 - val_loss: 0.6931 - val_acc: 0.5072\n",
      "Epoch 24/200\n",
      "3092/3092 [==============================] - 0s - loss: 0.6943 - acc: 0.5197 - val_loss: 0.6970 - val_acc: 0.5072\n",
      "Epoch 25/200\n",
      "3092/3092 [==============================] - 0s - loss: 0.6930 - acc: 0.5281 - val_loss: 0.6932 - val_acc: 0.5072\n",
      "Epoch 26/200\n",
      "3092/3092 [==============================] - 0s - loss: 0.6948 - acc: 0.5272 - val_loss: 0.6994 - val_acc: 0.5072\n",
      "Epoch 27/200\n",
      "3092/3092 [==============================] - 0s - loss: 0.6945 - acc: 0.5268 - val_loss: 0.6989 - val_acc: 0.5072\n",
      "Epoch 28/200\n",
      "3092/3092 [==============================] - 0s - loss: 0.6929 - acc: 0.5230 - val_loss: 0.6932 - val_acc: 0.4928\n",
      "Epoch 29/200\n",
      "3092/3092 [==============================] - 0s - loss: 0.6947 - acc: 0.5246 - val_loss: 0.6967 - val_acc: 0.5072\n",
      "Epoch 30/200\n",
      "3092/3092 [==============================] - 0s - loss: 0.6938 - acc: 0.5301 - val_loss: 0.7054 - val_acc: 0.5072\n",
      "Epoch 31/200\n",
      "3092/3092 [==============================] - 0s - loss: 0.6955 - acc: 0.5155 - val_loss: 0.7008 - val_acc: 0.5072\n",
      "Epoch 32/200\n",
      "3092/3092 [==============================] - 0s - loss: 0.6931 - acc: 0.5353 - val_loss: 0.6986 - val_acc: 0.5072\n",
      "Epoch 33/200\n",
      "3092/3092 [==============================] - 0s - loss: 0.6925 - acc: 0.5291 - val_loss: 0.7073 - val_acc: 0.5072\n",
      "Epoch 34/200\n",
      "3092/3092 [==============================] - 0s - loss: 0.6925 - acc: 0.5317 - val_loss: 0.7025 - val_acc: 0.5072\n",
      "Epoch 35/200\n",
      "3092/3092 [==============================] - 0s - loss: 0.6941 - acc: 0.5375 - val_loss: 0.7005 - val_acc: 0.5072\n",
      "Epoch 36/200\n",
      "3092/3092 [==============================] - 0s - loss: 0.6932 - acc: 0.5255 - val_loss: 0.6991 - val_acc: 0.5072\n",
      "Epoch 37/200\n",
      "3092/3092 [==============================] - 0s - loss: 0.6934 - acc: 0.5310 - val_loss: 0.7018 - val_acc: 0.5072\n",
      "Epoch 38/200\n",
      "3092/3092 [==============================] - 0s - loss: 0.6938 - acc: 0.5272 - val_loss: 0.6933 - val_acc: 0.5072\n",
      "Epoch 39/200\n",
      "3092/3092 [==============================] - 0s - loss: 0.6949 - acc: 0.5291 - val_loss: 0.6939 - val_acc: 0.5072\n",
      "Epoch 40/200\n",
      "3092/3092 [==============================] - 0s - loss: 0.6947 - acc: 0.5210 - val_loss: 0.6960 - val_acc: 0.4928\n",
      "Epoch 41/200\n",
      "3092/3092 [==============================] - 0s - loss: 0.6932 - acc: 0.5336 - val_loss: 0.6939 - val_acc: 0.5072\n",
      "Epoch 42/200\n",
      "3092/3092 [==============================] - 0s - loss: 0.6937 - acc: 0.5272 - val_loss: 0.6933 - val_acc: 0.5072\n",
      "Epoch 43/200\n",
      "3092/3092 [==============================] - 0s - loss: 0.6918 - acc: 0.5194 - val_loss: 0.6966 - val_acc: 0.4928\n",
      "Epoch 44/200\n",
      "3092/3092 [==============================] - 0s - loss: 0.6940 - acc: 0.5349 - val_loss: 0.6935 - val_acc: 0.5072\n",
      "Epoch 45/200\n",
      "3092/3092 [==============================] - 0s - loss: 0.6929 - acc: 0.5181 - val_loss: 0.7155 - val_acc: 0.5072\n",
      "Epoch 46/200\n",
      "3092/3092 [==============================] - 0s - loss: 0.6924 - acc: 0.5362 - val_loss: 0.7184 - val_acc: 0.5072\n",
      "Epoch 47/200\n",
      "3092/3092 [==============================] - 0s - loss: 0.6934 - acc: 0.5239 - val_loss: 0.7465 - val_acc: 0.5072\n",
      "Epoch 48/200\n",
      "3092/3092 [==============================] - 0s - loss: 0.6957 - acc: 0.5265 - val_loss: 0.6950 - val_acc: 0.5072\n",
      "Epoch 49/200\n",
      "3092/3092 [==============================] - 0s - loss: 0.6942 - acc: 0.5285 - val_loss: 0.7002 - val_acc: 0.5072\n",
      "Epoch 50/200\n",
      "3092/3092 [==============================] - 0s - loss: 0.6946 - acc: 0.5343 - val_loss: 0.6943 - val_acc: 0.5072\n",
      "Epoch 51/200\n",
      "3092/3092 [==============================] - 0s - loss: 0.6938 - acc: 0.5259 - val_loss: 0.6940 - val_acc: 0.5072\n",
      "Epoch 52/200\n",
      "3092/3092 [==============================] - 0s - loss: 0.6911 - acc: 0.5291 - val_loss: 0.7032 - val_acc: 0.5072\n",
      "Epoch 53/200\n",
      "3092/3092 [==============================] - 0s - loss: 0.6917 - acc: 0.5343 - val_loss: 0.7157 - val_acc: 0.5072\n",
      "Epoch 54/200\n",
      "3092/3092 [==============================] - 0s - loss: 0.6914 - acc: 0.5356 - val_loss: 0.6931 - val_acc: 0.5072\n",
      "Epoch 55/200\n",
      "3092/3092 [==============================] - 0s - loss: 0.6929 - acc: 0.5304 - val_loss: 0.6960 - val_acc: 0.4928\n",
      "Epoch 56/200\n",
      "3092/3092 [==============================] - 0s - loss: 0.6942 - acc: 0.5343 - val_loss: 0.6949 - val_acc: 0.5072\n",
      "Epoch 57/200\n",
      "3092/3092 [==============================] - 0s - loss: 0.6926 - acc: 0.5265 - val_loss: 0.6934 - val_acc: 0.4928\n",
      "Epoch 58/200\n",
      "3092/3092 [==============================] - 0s - loss: 0.6925 - acc: 0.5181 - val_loss: 0.6933 - val_acc: 0.4928\n",
      "Epoch 59/200\n",
      "3092/3092 [==============================] - 0s - loss: 0.6922 - acc: 0.5323 - val_loss: 0.7146 - val_acc: 0.5072\n",
      "Epoch 60/200\n",
      "3092/3092 [==============================] - 0s - loss: 0.6932 - acc: 0.5207 - val_loss: 0.6934 - val_acc: 0.5072\n",
      "Epoch 61/200\n",
      "3092/3092 [==============================] - 0s - loss: 0.6916 - acc: 0.5323 - val_loss: 0.7147 - val_acc: 0.5072\n",
      "Epoch 62/200\n",
      "3092/3092 [==============================] - 0s - loss: 0.6970 - acc: 0.5265 - val_loss: 0.6940 - val_acc: 0.4928\n",
      "Epoch 63/200\n",
      "3092/3092 [==============================] - 0s - loss: 0.6930 - acc: 0.5375 - val_loss: 0.6932 - val_acc: 0.5072\n",
      "Epoch 64/200\n",
      "3092/3092 [==============================] - 0s - loss: 0.6950 - acc: 0.5175 - val_loss: 0.7094 - val_acc: 0.5072\n",
      "Epoch 65/200\n",
      "3092/3092 [==============================] - 0s - loss: 0.6950 - acc: 0.5207 - val_loss: 0.6931 - val_acc: 0.5072\n",
      "Epoch 66/200\n",
      "3092/3092 [==============================] - 0s - loss: 0.6925 - acc: 0.5317 - val_loss: 0.6986 - val_acc: 0.5072\n",
      "Epoch 67/200\n",
      "3092/3092 [==============================] - 0s - loss: 0.6925 - acc: 0.5233 - val_loss: 0.6995 - val_acc: 0.5072\n",
      "Epoch 68/200\n",
      "3092/3092 [==============================] - 0s - loss: 0.6951 - acc: 0.5123 - val_loss: 0.7017 - val_acc: 0.5072\n",
      "Epoch 69/200\n",
      "3092/3092 [==============================] - 0s - loss: 0.6913 - acc: 0.5330 - val_loss: 0.6940 - val_acc: 0.5072\n",
      "Epoch 70/200\n",
      "3092/3092 [==============================] - 0s - loss: 0.6942 - acc: 0.5259 - val_loss: 0.7094 - val_acc: 0.5072\n",
      "Epoch 71/200\n",
      "3092/3092 [==============================] - 0s - loss: 0.6952 - acc: 0.5252 - val_loss: 0.6975 - val_acc: 0.4928\n",
      "Epoch 72/200\n",
      "3092/3092 [==============================] - 0s - loss: 0.6945 - acc: 0.5233 - val_loss: 0.6933 - val_acc: 0.4928\n",
      "Epoch 73/200\n",
      "3092/3092 [==============================] - 0s - loss: 0.6935 - acc: 0.5298 - val_loss: 0.6934 - val_acc: 0.5072\n",
      "Epoch 74/200\n",
      "3092/3092 [==============================] - 0s - loss: 0.6941 - acc: 0.5278 - val_loss: 0.7172 - val_acc: 0.5072\n",
      "Epoch 75/200\n",
      "3092/3092 [==============================] - 0s - loss: 0.6953 - acc: 0.5091 - val_loss: 0.7071 - val_acc: 0.5072\n",
      "Epoch 76/200\n",
      "3092/3092 [==============================] - 0s - loss: 0.6938 - acc: 0.5362 - val_loss: 0.7052 - val_acc: 0.5072\n",
      "Epoch 77/200\n",
      "3092/3092 [==============================] - 0s - loss: 0.6932 - acc: 0.5349 - val_loss: 0.6943 - val_acc: 0.5072\n",
      "Epoch 78/200\n",
      "3092/3092 [==============================] - 0s - loss: 0.6939 - acc: 0.5226 - val_loss: 0.7014 - val_acc: 0.5072\n",
      "Epoch 79/200\n",
      "3092/3092 [==============================] - 0s - loss: 0.6913 - acc: 0.5369 - val_loss: 0.6968 - val_acc: 0.4928\n",
      "Epoch 80/200\n",
      "3092/3092 [==============================] - 0s - loss: 0.6935 - acc: 0.5317 - val_loss: 0.6948 - val_acc: 0.5072\n",
      "Epoch 81/200\n",
      "3092/3092 [==============================] - 0s - loss: 0.6927 - acc: 0.5310 - val_loss: 0.7001 - val_acc: 0.5072\n",
      "Epoch 82/200\n",
      "3092/3092 [==============================] - 0s - loss: 0.6936 - acc: 0.5298 - val_loss: 0.6963 - val_acc: 0.5072\n",
      "Epoch 83/200\n",
      "3092/3092 [==============================] - 0s - loss: 0.6944 - acc: 0.5291 - val_loss: 0.6932 - val_acc: 0.4928\n",
      "Epoch 84/200\n",
      "3092/3092 [==============================] - 0s - loss: 0.6934 - acc: 0.5188 - val_loss: 0.6931 - val_acc: 0.5072\n",
      "Epoch 85/200\n",
      "3092/3092 [==============================] - 0s - loss: 0.6923 - acc: 0.5304 - val_loss: 0.6932 - val_acc: 0.4928\n",
      "Epoch 86/200\n",
      "3092/3092 [==============================] - 0s - loss: 0.6924 - acc: 0.5298 - val_loss: 0.6944 - val_acc: 0.5072\n",
      "Epoch 87/200\n",
      "3092/3092 [==============================] - 0s - loss: 0.6937 - acc: 0.5298 - val_loss: 0.7017 - val_acc: 0.5072\n",
      "Epoch 88/200\n",
      "3092/3092 [==============================] - 0s - loss: 0.6943 - acc: 0.5369 - val_loss: 0.6955 - val_acc: 0.5072\n",
      "Epoch 89/200\n",
      "3092/3092 [==============================] - 0s - loss: 0.6927 - acc: 0.5330 - val_loss: 0.6939 - val_acc: 0.4928\n",
      "Epoch 90/200\n",
      "3092/3092 [==============================] - 0s - loss: 0.6939 - acc: 0.5226 - val_loss: 0.6987 - val_acc: 0.5072\n",
      "Epoch 91/200\n",
      "3092/3092 [==============================] - 0s - loss: 0.6918 - acc: 0.5336 - val_loss: 0.7006 - val_acc: 0.4928\n",
      "Epoch 92/200\n",
      "3092/3092 [==============================] - 0s - loss: 0.6915 - acc: 0.5420 - val_loss: 0.6955 - val_acc: 0.5072\n",
      "Epoch 93/200\n",
      "3092/3092 [==============================] - 0s - loss: 0.6927 - acc: 0.5213 - val_loss: 0.7002 - val_acc: 0.5072\n",
      "Epoch 94/200\n",
      "3092/3092 [==============================] - 0s - loss: 0.6947 - acc: 0.5123 - val_loss: 0.6954 - val_acc: 0.5072\n",
      "Epoch 95/200\n",
      "3092/3092 [==============================] - 0s - loss: 0.6933 - acc: 0.5369 - val_loss: 0.6992 - val_acc: 0.5072\n",
      "Epoch 96/200\n",
      "3092/3092 [==============================] - 0s - loss: 0.6957 - acc: 0.5310 - val_loss: 0.6968 - val_acc: 0.5072\n",
      "Epoch 97/200\n",
      "3092/3092 [==============================] - 0s - loss: 0.6931 - acc: 0.5226 - val_loss: 0.6958 - val_acc: 0.5072\n",
      "Epoch 98/200\n",
      "3092/3092 [==============================] - 0s - loss: 0.6948 - acc: 0.5246 - val_loss: 0.6943 - val_acc: 0.4928\n",
      "Epoch 99/200\n",
      "3092/3092 [==============================] - 0s - loss: 0.6963 - acc: 0.5194 - val_loss: 0.6931 - val_acc: 0.5072\n",
      "Epoch 100/200\n",
      "3092/3092 [==============================] - 0s - loss: 0.6945 - acc: 0.5252 - val_loss: 0.6967 - val_acc: 0.5072\n",
      "Epoch 101/200\n",
      "3092/3092 [==============================] - 0s - loss: 0.6923 - acc: 0.5356 - val_loss: 0.7084 - val_acc: 0.5072\n",
      "Epoch 102/200\n",
      "3092/3092 [==============================] - 0s - loss: 0.6925 - acc: 0.5304 - val_loss: 0.6986 - val_acc: 0.4928\n",
      "Epoch 103/200\n",
      "3092/3092 [==============================] - 0s - loss: 0.6950 - acc: 0.5298 - val_loss: 0.6931 - val_acc: 0.5072\n",
      "Epoch 104/200\n",
      "3092/3092 [==============================] - 0s - loss: 0.6931 - acc: 0.5207 - val_loss: 0.6992 - val_acc: 0.5072\n",
      "Epoch 105/200\n",
      "3092/3092 [==============================] - 0s - loss: 0.6945 - acc: 0.5246 - val_loss: 0.6964 - val_acc: 0.5072\n",
      "Epoch 106/200\n",
      "3092/3092 [==============================] - 0s - loss: 0.6930 - acc: 0.5207 - val_loss: 0.6935 - val_acc: 0.4928\n",
      "Epoch 107/200\n",
      "3092/3092 [==============================] - 0s - loss: 0.6930 - acc: 0.5356 - val_loss: 0.7006 - val_acc: 0.5072\n",
      "Epoch 108/200\n",
      "3092/3092 [==============================] - 0s - loss: 0.6927 - acc: 0.5330 - val_loss: 0.7313 - val_acc: 0.5072\n",
      "Epoch 109/200\n",
      "3092/3092 [==============================] - 0s - loss: 0.6939 - acc: 0.5375 - val_loss: 0.7025 - val_acc: 0.4928\n",
      "Epoch 110/200\n",
      "3092/3092 [==============================] - 0s - loss: 0.6944 - acc: 0.5317 - val_loss: 0.6933 - val_acc: 0.4928\n",
      "Epoch 111/200\n",
      "3092/3092 [==============================] - 0s - loss: 0.6922 - acc: 0.5349 - val_loss: 0.7045 - val_acc: 0.5072\n",
      "Epoch 112/200\n",
      "3092/3092 [==============================] - 0s - loss: 0.6945 - acc: 0.5323 - val_loss: 0.6935 - val_acc: 0.5072\n",
      "Epoch 113/200\n",
      "3092/3092 [==============================] - 0s - loss: 0.6944 - acc: 0.5213 - val_loss: 0.6935 - val_acc: 0.4928\n",
      "Epoch 114/200\n",
      "3092/3092 [==============================] - 0s - loss: 0.6946 - acc: 0.5310 - val_loss: 0.7058 - val_acc: 0.5072\n",
      "Epoch 115/200\n",
      "3092/3092 [==============================] - 0s - loss: 0.6927 - acc: 0.5388 - val_loss: 0.6931 - val_acc: 0.5072\n",
      "Epoch 116/200\n",
      "3092/3092 [==============================] - 0s - loss: 0.6915 - acc: 0.5310 - val_loss: 0.6992 - val_acc: 0.5072\n",
      "Epoch 117/200\n",
      "3092/3092 [==============================] - 0s - loss: 0.6941 - acc: 0.5194 - val_loss: 0.6931 - val_acc: 0.5072\n",
      "Epoch 118/200\n",
      "3092/3092 [==============================] - 0s - loss: 0.6924 - acc: 0.5382 - val_loss: 0.6983 - val_acc: 0.5072\n",
      "Epoch 119/200\n",
      "3092/3092 [==============================] - 0s - loss: 0.6920 - acc: 0.5252 - val_loss: 0.7009 - val_acc: 0.5072\n",
      "Epoch 120/200\n",
      "3092/3092 [==============================] - 0s - loss: 0.6924 - acc: 0.5336 - val_loss: 0.6967 - val_acc: 0.5072\n",
      "Epoch 121/200\n",
      "3092/3092 [==============================] - 0s - loss: 0.6933 - acc: 0.5310 - val_loss: 0.6933 - val_acc: 0.5072\n",
      "Epoch 122/200\n",
      "3092/3092 [==============================] - 0s - loss: 0.6937 - acc: 0.5265 - val_loss: 0.6943 - val_acc: 0.5072\n",
      "Epoch 123/200\n",
      "3092/3092 [==============================] - 0s - loss: 0.6924 - acc: 0.5356 - val_loss: 0.6932 - val_acc: 0.5072\n",
      "Epoch 124/200\n",
      "3092/3092 [==============================] - 0s - loss: 0.6913 - acc: 0.5317 - val_loss: 0.6947 - val_acc: 0.5072\n",
      "Epoch 125/200\n",
      "3092/3092 [==============================] - 0s - loss: 0.6929 - acc: 0.5291 - val_loss: 0.7014 - val_acc: 0.5072\n",
      "Epoch 126/200\n",
      "3092/3092 [==============================] - 0s - loss: 0.6941 - acc: 0.5336 - val_loss: 0.6949 - val_acc: 0.5072\n",
      "Epoch 127/200\n",
      "3092/3092 [==============================] - 0s - loss: 0.6942 - acc: 0.5233 - val_loss: 0.6933 - val_acc: 0.5072\n",
      "Epoch 128/200\n",
      "3092/3092 [==============================] - 0s - loss: 0.6929 - acc: 0.5285 - val_loss: 0.6933 - val_acc: 0.5072\n",
      "Epoch 129/200\n",
      "3092/3092 [==============================] - 0s - loss: 0.6918 - acc: 0.5278 - val_loss: 0.7136 - val_acc: 0.5072\n",
      "Epoch 130/200\n",
      "3092/3092 [==============================] - 0s - loss: 0.6937 - acc: 0.5246 - val_loss: 0.7023 - val_acc: 0.5072\n",
      "Epoch 131/200\n",
      "3092/3092 [==============================] - 0s - loss: 0.6931 - acc: 0.5304 - val_loss: 0.7088 - val_acc: 0.5072\n",
      "Epoch 132/200\n",
      "3092/3092 [==============================] - 0s - loss: 0.6950 - acc: 0.5226 - val_loss: 0.7053 - val_acc: 0.5072\n",
      "Epoch 133/200\n",
      "3092/3092 [==============================] - 0s - loss: 0.6921 - acc: 0.5330 - val_loss: 0.6976 - val_acc: 0.5072\n",
      "Epoch 134/200\n",
      "3092/3092 [==============================] - 0s - loss: 0.6951 - acc: 0.5136 - val_loss: 0.6950 - val_acc: 0.5072\n",
      "Epoch 135/200\n",
      "3092/3092 [==============================] - 0s - loss: 0.6904 - acc: 0.5433 - val_loss: 0.7161 - val_acc: 0.5072\n",
      "Epoch 136/200\n",
      "3092/3092 [==============================] - 0s - loss: 0.6951 - acc: 0.5201 - val_loss: 0.6932 - val_acc: 0.5072\n",
      "Epoch 137/200\n",
      "3092/3092 [==============================] - 0s - loss: 0.6953 - acc: 0.5298 - val_loss: 0.6991 - val_acc: 0.5072\n",
      "Epoch 138/200\n",
      "3092/3092 [==============================] - 0s - loss: 0.6936 - acc: 0.5349 - val_loss: 0.6942 - val_acc: 0.5072\n",
      "Epoch 139/200\n",
      "3092/3092 [==============================] - 0s - loss: 0.6931 - acc: 0.5395 - val_loss: 0.7050 - val_acc: 0.4928\n",
      "Epoch 140/200\n",
      "3092/3092 [==============================] - 0s - loss: 0.6946 - acc: 0.5220 - val_loss: 0.7040 - val_acc: 0.5072\n",
      "Epoch 141/200\n",
      "3092/3092 [==============================] - 0s - loss: 0.6958 - acc: 0.5239 - val_loss: 0.6931 - val_acc: 0.5072\n",
      "Epoch 142/200\n",
      "3092/3092 [==============================] - 0s - loss: 0.7030 - acc: 0.5298 - val_loss: 0.6934 - val_acc: 0.4928\n",
      "Epoch 143/200\n",
      "3092/3092 [==============================] - 0s - loss: 0.6929 - acc: 0.5336 - val_loss: 0.6983 - val_acc: 0.5072\n",
      "Epoch 144/200\n",
      "3092/3092 [==============================] - 0s - loss: 0.6930 - acc: 0.5252 - val_loss: 0.6962 - val_acc: 0.5072\n",
      "Epoch 145/200\n",
      "3092/3092 [==============================] - 0s - loss: 0.6955 - acc: 0.5197 - val_loss: 0.7008 - val_acc: 0.5072\n",
      "Epoch 146/200\n",
      "3092/3092 [==============================] - 0s - loss: 0.6924 - acc: 0.5278 - val_loss: 0.6944 - val_acc: 0.5072\n",
      "Epoch 147/200\n",
      "3092/3092 [==============================] - 0s - loss: 0.6942 - acc: 0.5298 - val_loss: 0.7054 - val_acc: 0.5072\n",
      "Epoch 148/200\n",
      "3092/3092 [==============================] - 0s - loss: 0.6930 - acc: 0.5310 - val_loss: 0.6987 - val_acc: 0.5072\n",
      "Epoch 149/200\n",
      "3092/3092 [==============================] - 0s - loss: 0.6921 - acc: 0.5304 - val_loss: 0.6937 - val_acc: 0.4928\n",
      "Epoch 150/200\n",
      "3092/3092 [==============================] - 0s - loss: 0.6939 - acc: 0.5207 - val_loss: 0.6937 - val_acc: 0.5072\n",
      "Epoch 151/200\n",
      "3092/3092 [==============================] - 0s - loss: 0.6921 - acc: 0.5220 - val_loss: 0.7094 - val_acc: 0.5072\n",
      "Epoch 152/200\n",
      "3092/3092 [==============================] - 0s - loss: 0.6955 - acc: 0.5317 - val_loss: 0.6995 - val_acc: 0.5072\n",
      "Epoch 153/200\n",
      "3092/3092 [==============================] - 0s - loss: 0.6922 - acc: 0.5356 - val_loss: 0.6976 - val_acc: 0.5072\n",
      "Epoch 154/200\n",
      "3092/3092 [==============================] - 0s - loss: 0.6954 - acc: 0.5310 - val_loss: 0.6951 - val_acc: 0.5072\n",
      "Epoch 155/200\n",
      "3092/3092 [==============================] - 0s - loss: 0.6922 - acc: 0.5327 - val_loss: 0.7069 - val_acc: 0.5072\n",
      "Epoch 156/200\n",
      "3092/3092 [==============================] - 0s - loss: 0.6936 - acc: 0.5310 - val_loss: 0.7105 - val_acc: 0.5072\n",
      "Epoch 157/200\n",
      "3092/3092 [==============================] - 0s - loss: 0.6946 - acc: 0.5158 - val_loss: 0.7209 - val_acc: 0.5072\n",
      "Epoch 158/200\n",
      "3092/3092 [==============================] - 0s - loss: 0.6929 - acc: 0.5343 - val_loss: 0.6967 - val_acc: 0.5072\n",
      "Epoch 159/200\n",
      "3092/3092 [==============================] - 0s - loss: 0.6921 - acc: 0.5404 - val_loss: 0.6988 - val_acc: 0.5072\n",
      "Epoch 160/200\n",
      "3092/3092 [==============================] - 0s - loss: 0.6936 - acc: 0.5362 - val_loss: 0.6957 - val_acc: 0.5072\n",
      "Epoch 161/200\n",
      "3092/3092 [==============================] - 0s - loss: 0.6948 - acc: 0.5336 - val_loss: 0.6953 - val_acc: 0.5072\n",
      "Epoch 162/200\n",
      "3092/3092 [==============================] - 0s - loss: 0.6962 - acc: 0.5129 - val_loss: 0.6974 - val_acc: 0.5072\n",
      "Epoch 163/200\n",
      "3092/3092 [==============================] - 0s - loss: 0.6973 - acc: 0.5019 - val_loss: 0.7006 - val_acc: 0.5072\n",
      "Epoch 164/200\n",
      "3092/3092 [==============================] - 0s - loss: 0.6936 - acc: 0.5310 - val_loss: 0.6943 - val_acc: 0.5072\n",
      "Epoch 165/200\n",
      "3092/3092 [==============================] - 0s - loss: 0.6920 - acc: 0.5233 - val_loss: 0.6958 - val_acc: 0.5072\n",
      "Epoch 166/200\n",
      "3092/3092 [==============================] - 0s - loss: 0.6922 - acc: 0.5385 - val_loss: 0.6933 - val_acc: 0.5072\n",
      "Epoch 167/200\n",
      "3092/3092 [==============================] - 0s - loss: 0.6932 - acc: 0.5349 - val_loss: 0.6946 - val_acc: 0.5072\n",
      "Epoch 168/200\n",
      "3092/3092 [==============================] - 0s - loss: 0.6939 - acc: 0.5272 - val_loss: 0.6945 - val_acc: 0.5072\n",
      "Epoch 169/200\n",
      "3092/3092 [==============================] - 0s - loss: 0.6929 - acc: 0.5278 - val_loss: 0.7100 - val_acc: 0.5072\n",
      "Epoch 170/200\n",
      "3092/3092 [==============================] - 0s - loss: 0.6927 - acc: 0.5207 - val_loss: 0.6941 - val_acc: 0.4928\n",
      "Epoch 171/200\n",
      "3092/3092 [==============================] - 0s - loss: 0.6938 - acc: 0.5252 - val_loss: 0.6931 - val_acc: 0.5072\n",
      "Epoch 172/200\n",
      "3092/3092 [==============================] - 0s - loss: 0.6958 - acc: 0.5194 - val_loss: 0.6930 - val_acc: 0.5072\n",
      "Epoch 173/200\n",
      "3092/3092 [==============================] - 0s - loss: 0.6926 - acc: 0.5375 - val_loss: 0.7029 - val_acc: 0.5072\n",
      "Epoch 174/200\n",
      "3092/3092 [==============================] - 0s - loss: 0.6932 - acc: 0.5323 - val_loss: 0.7034 - val_acc: 0.5072\n",
      "Epoch 175/200\n",
      "3092/3092 [==============================] - 0s - loss: 0.6947 - acc: 0.5310 - val_loss: 0.6933 - val_acc: 0.5072\n",
      "Epoch 176/200\n",
      "3092/3092 [==============================] - 0s - loss: 0.6920 - acc: 0.5317 - val_loss: 0.6933 - val_acc: 0.4928\n",
      "Epoch 177/200\n",
      "3092/3092 [==============================] - 0s - loss: 0.6914 - acc: 0.5188 - val_loss: 0.7554 - val_acc: 0.5072\n",
      "Epoch 178/200\n",
      "3092/3092 [==============================] - 0s - loss: 0.6951 - acc: 0.5278 - val_loss: 0.7322 - val_acc: 0.5072\n",
      "Epoch 179/200\n",
      "3092/3092 [==============================] - 0s - loss: 0.6949 - acc: 0.5220 - val_loss: 0.7193 - val_acc: 0.5072\n",
      "Epoch 180/200\n",
      "3092/3092 [==============================] - 0s - loss: 0.6965 - acc: 0.5294 - val_loss: 0.6969 - val_acc: 0.5072\n",
      "Epoch 181/200\n",
      "3092/3092 [==============================] - 0s - loss: 0.6932 - acc: 0.5265 - val_loss: 0.6943 - val_acc: 0.5072\n",
      "Epoch 182/200\n",
      "3092/3092 [==============================] - 0s - loss: 0.6944 - acc: 0.5246 - val_loss: 0.6950 - val_acc: 0.5072\n",
      "Epoch 183/200\n",
      "3092/3092 [==============================] - 0s - loss: 0.6919 - acc: 0.5317 - val_loss: 0.7067 - val_acc: 0.5072\n",
      "Epoch 184/200\n",
      "3092/3092 [==============================] - 0s - loss: 0.7386 - acc: 0.5356 - val_loss: 0.6941 - val_acc: 0.4928\n",
      "Epoch 185/200\n",
      "3092/3092 [==============================] - 0s - loss: 0.7345 - acc: 0.5272 - val_loss: 0.6931 - val_acc: 0.5072\n",
      "Epoch 186/200\n",
      "3092/3092 [==============================] - 0s - loss: 0.6940 - acc: 0.5233 - val_loss: 0.6989 - val_acc: 0.5072\n",
      "Epoch 187/200\n",
      "3092/3092 [==============================] - 0s - loss: 0.6952 - acc: 0.5126 - val_loss: 0.7169 - val_acc: 0.5072\n",
      "Epoch 188/200\n",
      "3092/3092 [==============================] - 0s - loss: 0.6938 - acc: 0.5291 - val_loss: 0.6932 - val_acc: 0.5072\n",
      "Epoch 189/200\n",
      "3092/3092 [==============================] - 0s - loss: 0.6921 - acc: 0.5459 - val_loss: 0.6936 - val_acc: 0.5072\n",
      "Epoch 190/200\n",
      "3092/3092 [==============================] - 0s - loss: 0.6948 - acc: 0.5310 - val_loss: 0.6934 - val_acc: 0.5072\n",
      "Epoch 191/200\n",
      "3092/3092 [==============================] - 0s - loss: 0.6934 - acc: 0.5356 - val_loss: 0.7030 - val_acc: 0.5072\n",
      "Epoch 192/200\n",
      "3092/3092 [==============================] - 0s - loss: 0.6949 - acc: 0.5259 - val_loss: 0.6933 - val_acc: 0.4928\n",
      "Epoch 193/200\n",
      "3092/3092 [==============================] - 0s - loss: 0.6925 - acc: 0.5336 - val_loss: 0.6933 - val_acc: 0.5072\n",
      "Epoch 194/200\n",
      "3092/3092 [==============================] - 0s - loss: 0.6953 - acc: 0.5327 - val_loss: 0.7179 - val_acc: 0.5072\n",
      "Epoch 195/200\n",
      "3092/3092 [==============================] - 0s - loss: 0.6922 - acc: 0.5314 - val_loss: 0.6954 - val_acc: 0.5072\n",
      "Epoch 196/200\n",
      "3092/3092 [==============================] - 0s - loss: 0.6947 - acc: 0.5207 - val_loss: 0.6972 - val_acc: 0.5072\n",
      "Epoch 197/200\n",
      "3092/3092 [==============================] - 0s - loss: 0.6936 - acc: 0.5239 - val_loss: 0.6973 - val_acc: 0.5072\n",
      "Epoch 198/200\n",
      "3092/3092 [==============================] - 0s - loss: 0.6926 - acc: 0.5349 - val_loss: 0.7020 - val_acc: 0.5072\n",
      "Epoch 199/200\n",
      "3092/3092 [==============================] - 0s - loss: 0.6935 - acc: 0.5340 - val_loss: 0.6932 - val_acc: 0.5072\n",
      "Epoch 200/200\n",
      "3092/3092 [==============================] - 0s - loss: 0.6924 - acc: 0.5291 - val_loss: 0.7038 - val_acc: 0.5072\n"
     ]
    }
   ],
   "source": [
    "model = Sequential()\n",
    "model.add(Dense(10, input_dim=4, activation='sigmoid'))\n",
    "model.add(Dropout(0.5))\n",
    "model.add(Dense(8, activation='sigmoid'))\n",
    "model.add(Dropout(0.5))\n",
    "model.add(Dense(1, activation='sigmoid'))\n",
    "    \n",
    "sgd = optimizers.SGD(lr=0.1)\n",
    "\n",
    "\n",
    "model.compile(loss='binary_crossentropy', optimizer=sgd, metrics=['accuracy'])\n",
    "print(model.summary())\n",
    "history = model.fit(dataX, dataY,  validation_split=0.33, nb_epoch=200, batch_size=10)\n"
   ]
  },
  {
   "cell_type": "code",
   "execution_count": 63,
   "metadata": {
    "collapsed": false
   },
   "outputs": [
    {
     "name": "stdout",
     "output_type": "stream",
     "text": [
      "dict_keys(['val_acc', 'val_loss', 'acc', 'loss'])\n"
     ]
    },
    {
     "data": {
      "image/png": "[encoded data removed]",
      "text/plain": [
       "<matplotlib.figure.Figure at 0x15f374a87f0>"
      ]
     },
     "metadata": {},
     "output_type": "display_data"
    }
   ],
   "source": [
    "print(history.history.keys())\n",
    "plt.plot(history.history['acc'])\n",
    "plt.plot(history.history['val_acc'])\n",
    "plt.title('model accuracy')\n",
    "plt.ylabel('accuracy')\n",
    "plt.xlabel('epoch')\n",
    "plt.legend(['train', 'test'], loc='upper left')\n",
    "plt.show()"
   ]
  },
  {
   "cell_type": "code",
   "execution_count": 64,
   "metadata": {
    "collapsed": false
   },
   "outputs": [
    {
     "data": {
      "image/png": "[encoded data removed]",
      "text/plain": [
       "<matplotlib.figure.Figure at 0x15f374a8f28>"
      ]
     },
     "metadata": {},
     "output_type": "display_data"
    }
   ],
   "source": [
    "# summarize history for loss\n",
    "plt.plot(history.history['loss'])\n",
    "plt.plot(history.history['val_loss'])\n",
    "plt.title('model loss')\n",
    "plt.ylabel('loss')\n",
    "plt.xlabel('epoch')\n",
    "plt.legend(['train', 'test'], loc='upper left')\n",
    "plt.show()"
   ]
  },
  {
   "cell_type": "code",
   "execution_count": 65,
   "metadata": {
    "collapsed": false
   },
   "outputs": [
    {
     "ename": "NameError",
     "evalue": "name 'testX' is not defined",
     "output_type": "error",
     "traceback": [
      "\u001b[0;31m---------------------------------------------------------------------------\u001b[0m",
      "\u001b[0;31mNameError\u001b[0m                                 Traceback (most recent call last)",
      "\u001b[0;32m<ipython-input-65-3513d268f5c4>\u001b[0m in \u001b[0;36m<module>\u001b[0;34m()\u001b[0m\n\u001b[1;32m      1\u001b[0m \u001b[1;31m# test 셋을 별도로 안만들어서 에러뜸, 위에서 기본 데이터셋 train,test 분리하면 결과 스코어 확인할 수 있음\u001b[0m\u001b[1;33m\u001b[0m\u001b[1;33m\u001b[0m\u001b[0m\n\u001b[0;32m----> 2\u001b[0;31m \u001b[0mscores\u001b[0m \u001b[1;33m=\u001b[0m \u001b[0mmodel\u001b[0m\u001b[1;33m.\u001b[0m\u001b[0mevaluate\u001b[0m\u001b[1;33m(\u001b[0m\u001b[0mtestX\u001b[0m\u001b[1;33m,\u001b[0m \u001b[0mtestY\u001b[0m\u001b[1;33m,\u001b[0m \u001b[0mverbose\u001b[0m\u001b[1;33m=\u001b[0m\u001b[1;36m0\u001b[0m\u001b[1;33m)\u001b[0m\u001b[1;33m\u001b[0m\u001b[0m\n\u001b[0m\u001b[1;32m      3\u001b[0m \u001b[0mprint\u001b[0m\u001b[1;33m(\u001b[0m\u001b[1;34m\"Accuracy: %.2f%%\"\u001b[0m \u001b[1;33m%\u001b[0m \u001b[1;33m(\u001b[0m\u001b[0mscores\u001b[0m\u001b[1;33m[\u001b[0m\u001b[1;36m1\u001b[0m\u001b[1;33m]\u001b[0m\u001b[1;33m*\u001b[0m\u001b[1;36m100\u001b[0m\u001b[1;33m)\u001b[0m\u001b[1;33m)\u001b[0m\u001b[1;33m\u001b[0m\u001b[0m\n",
      "\u001b[0;31mNameError\u001b[0m: name 'testX' is not defined"
     ]
    }
   ],
   "source": [
    "# test 셋을 별도로 안만들어서 에러뜸, 위에서 기본 데이터셋 train,test 분리하면 결과 스코어 확인할 수 있음\n",
    "scores = model.evaluate(testX, testY, verbose=0)\n",
    "print(\"Accuracy: %.2f%%\" % (scores[1]*100))"
   ]
  },
  {
   "cell_type": "code",
   "execution_count": null,
   "metadata": {
    "collapsed": true
   },
   "outputs": [],
   "source": []
  }
 ],
 "metadata": {
  "anaconda-cloud": {},
  "kernelspec": {
   "display_name": "Python [default]",
   "language": "python",
   "name": "python3"
  },
  "language_info": {
   "codemirror_mode": {
    "name": "ipython",
    "version": 3
   },
   "file_extension": ".py",
   "mimetype": "text/x-python",
   "name": "python",
   "nbconvert_exporter": "python",
   "pygments_lexer": "ipython3",
   "version": "3.5.2"
  }
 },
 "nbformat": 4,
 "nbformat_minor": 2
}
