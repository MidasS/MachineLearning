{
 "cells": [
  {
   "cell_type": "code",
   "execution_count": 1,
   "metadata": {
    "collapsed": false
   },
   "outputs": [
    {
     "name": "stderr",
     "output_type": "stream",
     "text": [
      "Using TensorFlow backend.\n",
      "//anaconda/lib/python3.5/site-packages/pandas/io/data.py:35: FutureWarning: \n",
      "The pandas.io.data module is moved to a separate package (pandas-datareader) and will be removed from pandas in a future version.\n",
      "After installing the pandas-datareader package (https://github.com/pydata/pandas-datareader), you can change the import ``from pandas.io import data, wb`` to ``from pandas_datareader import data, wb``.\n",
      "  FutureWarning)\n"
     ]
    }
   ],
   "source": [
    "import numpy as np\n",
    "import matplotlib.pyplot as plt\n",
    "from pandas import read_csv,Series, DataFrame\n",
    "import math\n",
    "from keras.models import Sequential\n",
    "from keras.layers import Dense\n",
    "from keras.layers import LSTM\n",
    "from sklearn.preprocessing import MinMaxScaler\n",
    "from sklearn.metrics import mean_squared_error\n",
    "import pandas.io.data as web\n",
    "import datetime\n",
    "import tensorflow as tf\n",
    "from sklearn import svm, preprocessing\n",
    "import matplotlib.pyplot as plt\n",
    "import math"
   ]
  },
  {
   "cell_type": "code",
   "execution_count": 2,
   "metadata": {
    "collapsed": true
   },
   "outputs": [],
   "source": [
    "class KOSPIDATA:\n",
    "\n",
    "    def __init__(self):\n",
    "        start = datetime.datetime(1998, 5, 1)\n",
    "        end = datetime.datetime(2016, 12, 31)\n",
    "        kospi = web.DataReader(\"^KS11\", \"yahoo\", start, end)\n",
    "\n",
    "        self.arr_date= np.array(kospi.index)\n",
    "        self.arr_open = np.array(kospi.Open, dtype=float)\n",
    "        self.arr_close= np.array(kospi['Adj Close'], dtype=float)\n",
    "        self.arr_high= np.array(kospi.High, dtype=float)\n",
    "        self.arr_low= np.array(kospi.Low, dtype=float)\n",
    "        self.arr_volume= np.array(kospi.Volume, dtype=float)"
   ]
  },
  {
   "cell_type": "code",
   "execution_count": 3,
   "metadata": {
    "collapsed": true
   },
   "outputs": [],
   "source": [
    "def create_dataset(dataset, look_back=3):\n",
    "    dataX, dataY = [], []\n",
    "    for i in range(len(dataset)-look_back-1):\n",
    "        a = dataset[i:(i+look_back)]\n",
    "        dataX.append(a)\n",
    "        dataY.append(dataset[i + look_back])\n",
    "    return np.array(dataX), np.array(dataY)"
   ]
  },
  {
   "cell_type": "code",
   "execution_count": 4,
   "metadata": {
    "collapsed": false
   },
   "outputs": [],
   "source": [
    "K = KOSPIDATA()\n",
    "\n",
    "# FEATURES = ['high', 'low', 'open', 'close', 'volume']\n",
    "FEATURES = ['high', 'low', 'open', 'close']\n",
    "\n",
    "data = {'year': K.arr_date,\n",
    "        'open': K.arr_open,\n",
    "        'high': K.arr_high,\n",
    "        'low': K.arr_low,\n",
    "        'close': K.arr_close}\n",
    "\n",
    "# df = DataFrame(data, columns=['year', 'high', 'low', 'open', 'close'])\n",
    "df = DataFrame(data, columns=['year','close'])"
   ]
  },
  {
   "cell_type": "code",
   "execution_count": 82,
   "metadata": {
    "collapsed": false
   },
   "outputs": [],
   "source": [
    "dataset = df['close'].values"
   ]
  },
  {
   "cell_type": "code",
   "execution_count": 83,
   "metadata": {
    "collapsed": false
   },
   "outputs": [],
   "source": [
    "np.random.seed(7)"
   ]
  },
  {
   "cell_type": "code",
   "execution_count": 84,
   "metadata": {
    "collapsed": false
   },
   "outputs": [],
   "source": [
    "# dataset = dataset.reshape(-1,1)"
   ]
  },
  {
   "cell_type": "code",
   "execution_count": 85,
   "metadata": {
    "collapsed": false
   },
   "outputs": [
    {
     "name": "stderr",
     "output_type": "stream",
     "text": [
      "//anaconda/lib/python3.5/site-packages/sklearn/preprocessing/data.py:324: DeprecationWarning: Passing 1d arrays as data is deprecated in 0.17 and will raise ValueError in 0.19. Reshape your data either using X.reshape(-1, 1) if your data has a single feature or X.reshape(1, -1) if it contains a single sample.\n",
      "  warnings.warn(DEPRECATION_MSG_1D, DeprecationWarning)\n",
      "//anaconda/lib/python3.5/site-packages/sklearn/preprocessing/data.py:359: DeprecationWarning: Passing 1d arrays as data is deprecated in 0.17 and will raise ValueError in 0.19. Reshape your data either using X.reshape(-1, 1) if your data has a single feature or X.reshape(1, -1) if it contains a single sample.\n",
      "  warnings.warn(DEPRECATION_MSG_1D, DeprecationWarning)\n"
     ]
    }
   ],
   "source": [
    "scaler = MinMaxScaler(feature_range=(0, 1))\n",
    "dataset = scaler.fit_transform(dataset)"
   ]
  },
  {
   "cell_type": "code",
   "execution_count": 86,
   "metadata": {
    "collapsed": false
   },
   "outputs": [],
   "source": [
    "train_size = int(len(dataset) * 0.67)\n",
    "test_size = len(dataset) - train_size\n",
    "train, test = dataset[0:train_size], dataset[train_size:len(dataset)]"
   ]
  },
  {
   "cell_type": "code",
   "execution_count": 87,
   "metadata": {
    "collapsed": false
   },
   "outputs": [],
   "source": [
    "look_back = 3\n",
    "trainX, trainY = create_dataset(train, look_back)\n",
    "testX, testY = create_dataset(test, look_back)"
   ]
  },
  {
   "cell_type": "code",
   "execution_count": 88,
   "metadata": {
    "collapsed": false
   },
   "outputs": [],
   "source": [
    "trainX = np.reshape(trainX, (trainX.shape[0], 1, trainX.shape[1]))\n",
    "testX = np.reshape(testX, (testX.shape[0], 1, testX.shape[1]))"
   ]
  },
  {
   "cell_type": "code",
   "execution_count": 30,
   "metadata": {
    "collapsed": false
   },
   "outputs": [
    {
     "name": "stdout",
     "output_type": "stream",
     "text": [
      "Epoch 1/100\n",
      "22s - loss: 0.0135\n",
      "Epoch 2/100\n",
      "20s - loss: 3.0750e-04\n",
      "Epoch 3/100\n",
      "22s - loss: 2.6583e-04\n",
      "Epoch 4/100\n",
      "21s - loss: 2.5224e-04\n",
      "Epoch 5/100\n",
      "24s - loss: 2.3193e-04\n",
      "Epoch 6/100\n",
      "22s - loss: 2.1998e-04\n",
      "Epoch 7/100\n",
      "22s - loss: 1.9387e-04\n",
      "Epoch 8/100\n",
      "21s - loss: 1.8100e-04\n",
      "Epoch 9/100\n",
      "22s - loss: 1.6658e-04\n",
      "Epoch 10/100\n",
      "25s - loss: 1.5351e-04\n",
      "Epoch 11/100\n",
      "24s - loss: 1.4220e-04\n",
      "Epoch 12/100\n",
      "23s - loss: 1.4111e-04\n",
      "Epoch 13/100\n",
      "22s - loss: 1.3297e-04\n",
      "Epoch 14/100\n",
      "23s - loss: 1.2984e-04\n",
      "Epoch 15/100\n",
      "23s - loss: 1.2150e-04\n",
      "Epoch 16/100\n",
      "25s - loss: 1.2398e-04\n",
      "Epoch 17/100\n",
      "24s - loss: 1.2493e-04\n",
      "Epoch 18/100\n",
      "22s - loss: 1.2350e-04\n",
      "Epoch 19/100\n",
      "22s - loss: 1.2432e-04\n",
      "Epoch 20/100\n",
      "21s - loss: 1.2033e-04\n",
      "Epoch 21/100\n",
      "22s - loss: 1.2004e-04\n",
      "Epoch 22/100\n",
      "21s - loss: 1.1655e-04\n",
      "Epoch 23/100\n",
      "22s - loss: 1.1823e-04\n",
      "Epoch 24/100\n",
      "21s - loss: 1.1974e-04\n",
      "Epoch 25/100\n",
      "21s - loss: 1.1890e-04\n",
      "Epoch 26/100\n",
      "21s - loss: 1.1911e-04\n",
      "Epoch 27/100\n",
      "21s - loss: 1.1853e-04\n",
      "Epoch 28/100\n",
      "21s - loss: 1.2181e-04\n",
      "Epoch 29/100\n",
      "21s - loss: 1.2054e-04\n",
      "Epoch 30/100\n",
      "20s - loss: 1.1895e-04\n",
      "Epoch 31/100\n",
      "20s - loss: 1.1552e-04\n",
      "Epoch 32/100\n",
      "21s - loss: 1.1785e-04\n",
      "Epoch 33/100\n",
      "23s - loss: 1.2038e-04\n",
      "Epoch 34/100\n",
      "23s - loss: 1.1997e-04\n",
      "Epoch 35/100\n",
      "20s - loss: 1.1272e-04\n",
      "Epoch 36/100\n",
      "23s - loss: 1.2037e-04\n",
      "Epoch 37/100\n",
      "24s - loss: 1.1581e-04\n",
      "Epoch 38/100\n",
      "23s - loss: 1.1941e-04\n",
      "Epoch 39/100\n",
      "20s - loss: 1.1747e-04\n",
      "Epoch 40/100\n",
      "22s - loss: 1.1910e-04\n",
      "Epoch 41/100\n",
      "22s - loss: 1.1933e-04\n",
      "Epoch 42/100\n",
      "23s - loss: 1.1395e-04\n",
      "Epoch 43/100\n",
      "21s - loss: 1.1605e-04\n",
      "Epoch 44/100\n",
      "20s - loss: 1.1380e-04\n",
      "Epoch 45/100\n",
      "21s - loss: 1.1570e-04\n",
      "Epoch 46/100\n",
      "21s - loss: 1.1702e-04\n",
      "Epoch 47/100\n",
      "20s - loss: 1.1486e-04\n",
      "Epoch 48/100\n",
      "22s - loss: 1.1640e-04\n",
      "Epoch 49/100\n",
      "21s - loss: 1.1737e-04\n",
      "Epoch 50/100\n",
      "22s - loss: 1.1539e-04\n",
      "Epoch 51/100\n",
      "23s - loss: 1.1247e-04\n",
      "Epoch 52/100\n",
      "20s - loss: 1.1359e-04\n",
      "Epoch 53/100\n",
      "23s - loss: 1.1487e-04\n",
      "Epoch 54/100\n",
      "21s - loss: 1.1553e-04\n",
      "Epoch 55/100\n",
      "21s - loss: 1.1500e-04\n",
      "Epoch 56/100\n",
      "21s - loss: 1.1323e-04\n",
      "Epoch 57/100\n",
      "22s - loss: 1.1351e-04\n",
      "Epoch 58/100\n",
      "20s - loss: 1.1429e-04\n",
      "Epoch 59/100\n",
      "21s - loss: 1.1175e-04\n",
      "Epoch 60/100\n",
      "24s - loss: 1.1462e-04\n",
      "Epoch 61/100\n",
      "21s - loss: 1.1307e-04\n",
      "Epoch 62/100\n",
      "22s - loss: 1.1408e-04\n",
      "Epoch 63/100\n",
      "20s - loss: 1.1632e-04\n",
      "Epoch 64/100\n",
      "20s - loss: 1.1406e-04\n",
      "Epoch 65/100\n",
      "20s - loss: 1.1301e-04\n",
      "Epoch 66/100\n",
      "20s - loss: 1.1426e-04\n",
      "Epoch 67/100\n",
      "20s - loss: 1.1581e-04\n",
      "Epoch 68/100\n",
      "21s - loss: 1.1545e-04\n",
      "Epoch 69/100\n",
      "21s - loss: 1.0932e-04\n",
      "Epoch 70/100\n",
      "21s - loss: 1.1416e-04\n",
      "Epoch 71/100\n",
      "20s - loss: 1.1309e-04\n",
      "Epoch 72/100\n",
      "23s - loss: 1.1242e-04\n",
      "Epoch 73/100\n",
      "23s - loss: 1.1524e-04\n",
      "Epoch 74/100\n",
      "22s - loss: 1.1385e-04\n",
      "Epoch 75/100\n",
      "21s - loss: 1.1457e-04\n",
      "Epoch 76/100\n",
      "21s - loss: 1.1533e-04\n",
      "Epoch 77/100\n",
      "20s - loss: 1.1110e-04\n",
      "Epoch 78/100\n",
      "22s - loss: 1.1457e-04\n",
      "Epoch 79/100\n",
      "20s - loss: 1.1130e-04\n",
      "Epoch 80/100\n",
      "20s - loss: 1.1418e-04\n",
      "Epoch 81/100\n",
      "20s - loss: 1.1268e-04\n",
      "Epoch 82/100\n",
      "21s - loss: 1.1224e-04\n",
      "Epoch 83/100\n",
      "21s - loss: 1.1243e-04\n",
      "Epoch 84/100\n",
      "20s - loss: 1.1232e-04\n",
      "Epoch 85/100\n",
      "20s - loss: 1.0864e-04\n",
      "Epoch 86/100\n",
      "21s - loss: 1.1315e-04\n",
      "Epoch 87/100\n",
      "21s - loss: 1.1173e-04\n",
      "Epoch 88/100\n",
      "21s - loss: 1.1192e-04\n",
      "Epoch 89/100\n",
      "21s - loss: 1.1250e-04\n",
      "Epoch 90/100\n",
      "20s - loss: 1.1177e-04\n",
      "Epoch 91/100\n",
      "21s - loss: 1.1054e-04\n",
      "Epoch 92/100\n",
      "20s - loss: 1.1034e-04\n",
      "Epoch 93/100\n",
      "20s - loss: 1.1138e-04\n",
      "Epoch 94/100\n",
      "20s - loss: 1.1357e-04\n",
      "Epoch 95/100\n",
      "20s - loss: 1.0948e-04\n",
      "Epoch 96/100\n",
      "20s - loss: 1.1150e-04\n",
      "Epoch 97/100\n",
      "20s - loss: 1.1246e-04\n",
      "Epoch 98/100\n",
      "20s - loss: 1.1276e-04\n",
      "Epoch 99/100\n",
      "20s - loss: 1.1284e-04\n",
      "Epoch 100/100\n",
      "20s - loss: 1.1333e-04\n"
     ]
    },
    {
     "data": {
      "text/plain": [
       "<keras.callbacks.History at 0x121538d30>"
      ]
     },
     "execution_count": 30,
     "metadata": {},
     "output_type": "execute_result"
    }
   ],
   "source": [
    "model = Sequential()\n",
    "model.add(LSTM(4, input_dim=look_back))\n",
    "model.add(Dense(1))\n",
    "model.compile(loss='mean_squared_error', optimizer='adam')\n",
    "model.fit(trainX, trainY, nb_epoch=100, batch_size=1, verbose=2)"
   ]
  },
  {
   "cell_type": "code",
   "execution_count": 89,
   "metadata": {
    "collapsed": true
   },
   "outputs": [],
   "source": [
    "trainPredict = model.predict(trainX)\n",
    "testPredict = model.predict(testX)"
   ]
  },
  {
   "cell_type": "code",
   "execution_count": 90,
   "metadata": {
    "collapsed": false
   },
   "outputs": [
    {
     "data": {
      "text/plain": [
       "(1520, 1)"
      ]
     },
     "execution_count": 90,
     "metadata": {},
     "output_type": "execute_result"
    }
   ],
   "source": [
    "testPredict.shape"
   ]
  },
  {
   "cell_type": "code",
   "execution_count": 91,
   "metadata": {
    "collapsed": false
   },
   "outputs": [
    {
     "data": {
      "text/plain": [
       "array([[ 0.04912702],\n",
       "       [ 0.04556563],\n",
       "       [ 0.04046537],\n",
       "       ..., \n",
       "       [ 0.81193805],\n",
       "       [ 0.82639956],\n",
       "       [ 0.83589071]], dtype=float32)"
      ]
     },
     "execution_count": 91,
     "metadata": {},
     "output_type": "execute_result"
    }
   ],
   "source": [
    "trainPredict"
   ]
  },
  {
   "cell_type": "code",
   "execution_count": 92,
   "metadata": {
    "collapsed": false
   },
   "outputs": [
    {
     "name": "stderr",
     "output_type": "stream",
     "text": [
      "//anaconda/lib/python3.5/site-packages/sklearn/preprocessing/data.py:377: DeprecationWarning: Passing 1d arrays as data is deprecated in 0.17 and will raise ValueError in 0.19. Reshape your data either using X.reshape(-1, 1) if your data has a single feature or X.reshape(1, -1) if it contains a single sample.\n",
      "  warnings.warn(DEPRECATION_MSG_1D, DeprecationWarning)\n",
      "//anaconda/lib/python3.5/site-packages/sklearn/preprocessing/data.py:377: DeprecationWarning: Passing 1d arrays as data is deprecated in 0.17 and will raise ValueError in 0.19. Reshape your data either using X.reshape(-1, 1) if your data has a single feature or X.reshape(1, -1) if it contains a single sample.\n",
      "  warnings.warn(DEPRECATION_MSG_1D, DeprecationWarning)\n"
     ]
    }
   ],
   "source": [
    "trainPredict = scaler.inverse_transform(trainPredict)\n",
    "trainY = scaler.inverse_transform(trainY)\n",
    "testPredict = scaler.inverse_transform(testPredict)\n",
    "testY = scaler.inverse_transform(testY)"
   ]
  },
  {
   "cell_type": "code",
   "execution_count": 97,
   "metadata": {
    "collapsed": false
   },
   "outputs": [
    {
     "name": "stdout",
     "output_type": "stream",
     "text": [
      "Train Score: 645275.81 RMSE\n",
      "Test Score: 6579.14 RMSE\n"
     ]
    }
   ],
   "source": [
    "trainScore = ((trainY[0] - trainPredict[:,0]) ** 2).mean(axis=None)\n",
    "print('Train Score: %.2f RMSE' % (trainScore))\n",
    "testScore = ((testY[0] - testPredict[:,0]) ** 2).mean(axis=None)\n",
    "print('Test Score: %.2f RMSE' % (testScore))\n",
    "# shift train predictions for plotting"
   ]
  },
  {
   "cell_type": "code",
   "execution_count": 138,
   "metadata": {
    "collapsed": false
   },
   "outputs": [],
   "source": [
    "trainPredictPlot = np.zeros_like(dataset)\n",
    "trainPredictPlot[look_back:len(trainPredict)+look_back] = trainPredict[:,0]"
   ]
  },
  {
   "cell_type": "code",
   "execution_count": 156,
   "metadata": {
    "collapsed": true
   },
   "outputs": [],
   "source": [
    "testPredictPlot = np.zeros_like(dataset)\n",
    "testPredictPlot[len(trainPredict)+(look_back*2)+1:len(dataset)-1] = testPredict[:,0]"
   ]
  },
  {
   "cell_type": "code",
   "execution_count": 163,
   "metadata": {
    "collapsed": false
   },
   "outputs": [
    {
     "name": "stderr",
     "output_type": "stream",
     "text": [
      "//anaconda/lib/python3.5/site-packages/sklearn/preprocessing/data.py:377: DeprecationWarning: Passing 1d arrays as data is deprecated in 0.17 and will raise ValueError in 0.19. Reshape your data either using X.reshape(-1, 1) if your data has a single feature or X.reshape(1, -1) if it contains a single sample.\n",
      "  warnings.warn(DEPRECATION_MSG_1D, DeprecationWarning)\n"
     ]
    },
    {
     "data": {
      "text/plain": [
       "[<matplotlib.lines.Line2D at 0x121ff7f28>]"
      ]
     },
     "execution_count": 163,
     "metadata": {},
     "output_type": "execute_result"
    }
   ],
   "source": [
    "plt.plot(scaler.inverse_transform(dataset))"
   ]
  },
  {
   "cell_type": "code",
   "execution_count": 164,
   "metadata": {
    "collapsed": false
   },
   "outputs": [
    {
     "data": {
      "text/plain": [
       "[<matplotlib.lines.Line2D at 0x121fffa58>]"
      ]
     },
     "execution_count": 164,
     "metadata": {},
     "output_type": "execute_result"
    }
   ],
   "source": [
    "plt.plot(trainPredictPlot)"
   ]
  },
  {
   "cell_type": "code",
   "execution_count": 165,
   "metadata": {
    "collapsed": false
   },
   "outputs": [
    {
     "data": {
      "text/plain": [
       "[<matplotlib.lines.Line2D at 0x122103208>]"
      ]
     },
     "execution_count": 165,
     "metadata": {},
     "output_type": "execute_result"
    }
   ],
   "source": [
    "plt.plot(testPredictPlot)"
   ]
  },
  {
   "cell_type": "code",
   "execution_count": 166,
   "metadata": {
    "collapsed": false
   },
   "outputs": [
    {
     "data": {
      "image/png": "[encoded data removed]",
      "text/plain": [
       "<matplotlib.figure.Figure at 0x105ba9048>"
      ]
     },
     "metadata": {},
     "output_type": "display_data"
    }
   ],
   "source": [
    "plt.show()"
   ]
  },
  {
   "cell_type": "markdown",
   "metadata": {
    "collapsed": false
   },
   "source": [
    "trainPredictPlot = np.empty_like(dataset)\n",
    "print(trainPredictPlot.shape)\n",
    "trainPredictPlot[:] = np.nan\n",
    "print(trainPredictPlot.shape)\n",
    "trainPredictPlot[look_back:len(trainPredict)+look_back] = trainPredict[:,0]\n",
    "# shift test predictions for plotting"
   ]
  },
  {
   "cell_type": "code",
   "execution_count": null,
   "metadata": {
    "collapsed": true
   },
   "outputs": [],
   "source": []
  }
 ],
 "metadata": {
  "anaconda-cloud": {},
  "kernelspec": {
   "display_name": "Python [default]",
   "language": "python",
   "name": "python3"
  },
  "language_info": {
   "codemirror_mode": {
    "name": "ipython",
    "version": 3
   },
   "file_extension": ".py",
   "mimetype": "text/x-python",
   "name": "python",
   "nbconvert_exporter": "python",
   "pygments_lexer": "ipython3",
   "version": "3.5.2"
  }
 },
 "nbformat": 4,
 "nbformat_minor": 1
}
