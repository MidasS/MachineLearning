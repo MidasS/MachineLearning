{
 "cells": [
  {
   "cell_type": "code",
   "execution_count": 1,
   "metadata": {
    "collapsed": false
   },
   "outputs": [
    {
     "name": "stderr",
     "output_type": "stream",
     "text": [
      "Using TensorFlow backend.\n",
      "C:\\Program Files\\Anaconda3\\lib\\site-packages\\pandas\\io\\data.py:35: FutureWarning: \n",
      "The pandas.io.data module is moved to a separate package (pandas-datareader) and will be removed from pandas in a future version.\n",
      "After installing the pandas-datareader package (https://github.com/pydata/pandas-datareader), you can change the import ``from pandas.io import data, wb`` to ``from pandas_datareader import data, wb``.\n",
      "  FutureWarning)\n"
     ]
    }
   ],
   "source": [
    "import numpy as np\n",
    "import matplotlib.pyplot as plt\n",
    "from pandas import read_csv,Series, DataFrame\n",
    "import math\n",
    "from keras.models import Sequential\n",
    "from keras.layers import Dense\n",
    "from keras.layers import LSTM\n",
    "from sklearn.preprocessing import MinMaxScaler\n",
    "from sklearn.metrics import mean_squared_error\n",
    "import pandas.io.data as web\n",
    "import datetime\n",
    "import tensorflow as tf\n",
    "from sklearn import svm, preprocessing\n",
    "import matplotlib.pyplot as plt\n",
    "import math"
   ]
  },
  {
   "cell_type": "code",
   "execution_count": 2,
   "metadata": {
    "collapsed": true
   },
   "outputs": [],
   "source": [
    "class KOSPIDATA:\n",
    "\n",
    "    def __init__(self):\n",
    "        start = datetime.datetime(1998, 5, 1)\n",
    "        end = datetime.datetime(2016, 12, 31)\n",
    "        kospi = web.DataReader(\"^KS11\", \"yahoo\", start, end)\n",
    "\n",
    "        self.arr_date= np.array(kospi.index)\n",
    "        self.arr_open = np.array(kospi.Open, dtype=float)\n",
    "        self.arr_close= np.array(kospi['Adj Close'], dtype=float)\n",
    "        self.arr_high= np.array(kospi.High, dtype=float)\n",
    "        self.arr_low= np.array(kospi.Low, dtype=float)\n",
    "        self.arr_volume= np.array(kospi.Volume, dtype=float)"
   ]
  },
  {
   "cell_type": "code",
   "execution_count": 3,
   "metadata": {
    "collapsed": true
   },
   "outputs": [],
   "source": [
    "def create_dataset(dataset, look_back=3):\n",
    "    dataX, dataY = [], []\n",
    "    for i in range(len(dataset)-look_back-1):\n",
    "        a = dataset[i:(i+look_back)]\n",
    "        dataX.append(a)\n",
    "        dataY.append(dataset[i + look_back])\n",
    "    return np.array(dataX), np.array(dataY)"
   ]
  },
  {
   "cell_type": "code",
   "execution_count": 4,
   "metadata": {
    "collapsed": false
   },
   "outputs": [],
   "source": [
    "K = KOSPIDATA()\n",
    "\n",
    "# FEATURES = ['high', 'low', 'open', 'close', 'volume']\n",
    "FEATURES = ['high', 'low', 'open', 'close']\n",
    "\n",
    "data = {'year': K.arr_date,\n",
    "        'open': K.arr_open,\n",
    "        'high': K.arr_high,\n",
    "        'low': K.arr_low,\n",
    "        'close': K.arr_close}\n",
    "\n",
    "# df = DataFrame(data, columns=['year', 'high', 'low', 'open', 'close'])\n",
    "df = DataFrame(data, columns=['year','close'])"
   ]
  },
  {
   "cell_type": "code",
   "execution_count": 5,
   "metadata": {
    "collapsed": false
   },
   "outputs": [],
   "source": [
    "dataset = df['close'].values"
   ]
  },
  {
   "cell_type": "code",
   "execution_count": 6,
   "metadata": {
    "collapsed": false
   },
   "outputs": [],
   "source": [
    "np.random.seed(7)"
   ]
  },
  {
   "cell_type": "code",
   "execution_count": 7,
   "metadata": {
    "collapsed": false
   },
   "outputs": [],
   "source": [
    "# dataset = dataset.reshape(-1,1)"
   ]
  },
  {
   "cell_type": "code",
   "execution_count": 8,
   "metadata": {
    "collapsed": false
   },
   "outputs": [
    {
     "name": "stderr",
     "output_type": "stream",
     "text": [
      "C:\\Program Files\\Anaconda3\\lib\\site-packages\\sklearn\\preprocessing\\data.py:321: DeprecationWarning: Passing 1d arrays as data is deprecated in 0.17 and will raise ValueError in 0.19. Reshape your data either using X.reshape(-1, 1) if your data has a single feature or X.reshape(1, -1) if it contains a single sample.\n",
      "  warnings.warn(DEPRECATION_MSG_1D, DeprecationWarning)\n",
      "C:\\Program Files\\Anaconda3\\lib\\site-packages\\sklearn\\preprocessing\\data.py:356: DeprecationWarning: Passing 1d arrays as data is deprecated in 0.17 and will raise ValueError in 0.19. Reshape your data either using X.reshape(-1, 1) if your data has a single feature or X.reshape(1, -1) if it contains a single sample.\n",
      "  warnings.warn(DEPRECATION_MSG_1D, DeprecationWarning)\n"
     ]
    }
   ],
   "source": [
    "scaler = MinMaxScaler(feature_range=(0, 1))\n",
    "dataset = scaler.fit_transform(dataset)"
   ]
  },
  {
   "cell_type": "code",
   "execution_count": 9,
   "metadata": {
    "collapsed": false
   },
   "outputs": [],
   "source": [
    "train_size = int(len(dataset) * 0.67)\n",
    "test_size = len(dataset) - train_size\n",
    "train, test = dataset[0:train_size], dataset[train_size:len(dataset)]"
   ]
  },
  {
   "cell_type": "code",
   "execution_count": 10,
   "metadata": {
    "collapsed": false
   },
   "outputs": [],
   "source": [
    "look_back = 3\n",
    "trainX, trainY = create_dataset(train, look_back)\n",
    "testX, testY = create_dataset(test, look_back)"
   ]
  },
  {
   "cell_type": "code",
   "execution_count": 11,
   "metadata": {
    "collapsed": false
   },
   "outputs": [],
   "source": [
    "trainX = np.reshape(trainX, (trainX.shape[0], 1, trainX.shape[1]))\n",
    "testX = np.reshape(testX, (testX.shape[0], 1, testX.shape[1]))"
   ]
  },
  {
   "cell_type": "code",
   "execution_count": 12,
   "metadata": {
    "collapsed": false
   },
   "outputs": [
    {
     "name": "stderr",
     "output_type": "stream",
     "text": [
      "C:\\Program Files\\Anaconda3\\lib\\site-packages\\ipykernel\\__main__.py:2: UserWarning: The `input_dim` and `input_length` arguments in recurrent layers are deprecated. Use `input_shape` instead.\n",
      "  from ipykernel import kernelapp as app\n",
      "C:\\Program Files\\Anaconda3\\lib\\site-packages\\ipykernel\\__main__.py:2: UserWarning: Update your `LSTM` call to the Keras 2 API: `LSTM(4, input_shape=(None, 3))`\n",
      "  from ipykernel import kernelapp as app\n",
      "C:\\Program Files\\Anaconda3\\lib\\site-packages\\keras\\models.py:826: UserWarning: The `nb_epoch` argument in `fit` has been renamed `epochs`.\n",
      "  warnings.warn('The `nb_epoch` argument in `fit` '\n"
     ]
    },
    {
     "name": "stdout",
     "output_type": "stream",
     "text": [
      "Epoch 1/100\n",
      "5s - loss: 0.0134\n",
      "Epoch 2/100\n",
      "4s - loss: 2.4136e-04\n",
      "Epoch 3/100\n",
      "4s - loss: 2.0611e-04\n",
      "Epoch 4/100\n",
      "4s - loss: 1.9715e-04\n",
      "Epoch 5/100\n",
      "4s - loss: 1.9379e-04\n",
      "Epoch 6/100\n",
      "5s - loss: 1.8846e-04\n",
      "Epoch 7/100\n",
      "4s - loss: 1.8355e-04\n",
      "Epoch 8/100\n",
      "4s - loss: 1.7460e-04\n",
      "Epoch 9/100\n",
      "4s - loss: 1.6774e-04\n",
      "Epoch 10/100\n",
      "4s - loss: 1.6490e-04\n",
      "Epoch 11/100\n",
      "4s - loss: 1.6253e-04\n",
      "Epoch 12/100\n",
      "4s - loss: 1.5113e-04\n",
      "Epoch 13/100\n",
      "4s - loss: 1.5217e-04\n",
      "Epoch 14/100\n",
      "4s - loss: 1.4866e-04\n",
      "Epoch 15/100\n",
      "4s - loss: 1.3879e-04\n",
      "Epoch 16/100\n",
      "4s - loss: 1.3625e-04\n",
      "Epoch 17/100\n",
      "4s - loss: 1.3093e-04\n",
      "Epoch 18/100\n",
      "4s - loss: 1.3445e-04\n",
      "Epoch 19/100\n",
      "4s - loss: 1.3063e-04\n",
      "Epoch 20/100\n",
      "4s - loss: 1.2781e-04\n",
      "Epoch 21/100\n",
      "4s - loss: 1.2585e-04\n",
      "Epoch 22/100\n",
      "4s - loss: 1.2802e-04\n",
      "Epoch 23/100\n",
      "4s - loss: 1.2771e-04\n",
      "Epoch 24/100\n",
      "5s - loss: 1.2543e-04\n",
      "Epoch 25/100\n",
      "5s - loss: 1.2361e-04\n",
      "Epoch 26/100\n",
      "5s - loss: 1.2295e-04\n",
      "Epoch 27/100\n",
      "5s - loss: 1.2670e-04\n",
      "Epoch 28/100\n",
      "5s - loss: 1.2335e-04\n",
      "Epoch 29/100\n",
      "5s - loss: 1.2200e-04\n",
      "Epoch 30/100\n",
      "4s - loss: 1.2403e-04\n",
      "Epoch 31/100\n",
      "4s - loss: 1.2461e-04\n",
      "Epoch 32/100\n",
      "4s - loss: 1.2194e-04\n",
      "Epoch 33/100\n",
      "5s - loss: 1.2065e-04\n",
      "Epoch 34/100\n",
      "5s - loss: 1.2151e-04\n",
      "Epoch 35/100\n",
      "5s - loss: 1.1965e-04\n",
      "Epoch 36/100\n",
      "5s - loss: 1.2119e-04\n",
      "Epoch 37/100\n",
      "5s - loss: 1.2006e-04\n",
      "Epoch 38/100\n",
      "5s - loss: 1.2150e-04\n",
      "Epoch 39/100\n",
      "5s - loss: 1.1999e-04\n",
      "Epoch 40/100\n",
      "5s - loss: 1.1973e-04\n",
      "Epoch 41/100\n",
      "5s - loss: 1.2081e-04\n",
      "Epoch 42/100\n",
      "5s - loss: 1.2245e-04\n",
      "Epoch 43/100\n",
      "5s - loss: 1.1705e-04\n",
      "Epoch 44/100\n",
      "5s - loss: 1.1935e-04\n",
      "Epoch 45/100\n",
      "5s - loss: 1.1834e-04\n",
      "Epoch 46/100\n",
      "5s - loss: 1.1846e-04\n",
      "Epoch 47/100\n",
      "5s - loss: 1.1956e-04\n",
      "Epoch 48/100\n",
      "5s - loss: 1.1820e-04\n",
      "Epoch 49/100\n",
      "5s - loss: 1.1609e-04\n",
      "Epoch 50/100\n",
      "5s - loss: 1.1762e-04\n",
      "Epoch 51/100\n",
      "5s - loss: 1.2247e-04\n",
      "Epoch 52/100\n",
      "5s - loss: 1.1480e-04\n",
      "Epoch 53/100\n",
      "5s - loss: 1.1514e-04\n",
      "Epoch 54/100\n",
      "5s - loss: 1.1951e-04\n",
      "Epoch 55/100\n",
      "5s - loss: 1.1507e-04\n",
      "Epoch 56/100\n",
      "5s - loss: 1.1629e-04\n",
      "Epoch 57/100\n",
      "6s - loss: 1.2020e-04\n",
      "Epoch 58/100\n",
      "5s - loss: 1.1544e-04\n",
      "Epoch 59/100\n",
      "5s - loss: 1.1709e-04\n",
      "Epoch 60/100\n",
      "5s - loss: 1.1759e-04\n",
      "Epoch 61/100\n",
      "5s - loss: 1.2020e-04\n",
      "Epoch 62/100\n",
      "5s - loss: 1.1612e-04\n",
      "Epoch 63/100\n",
      "5s - loss: 1.1823e-04\n",
      "Epoch 64/100\n",
      "5s - loss: 1.1599e-04\n",
      "Epoch 65/100\n",
      "5s - loss: 1.1530e-04\n",
      "Epoch 66/100\n",
      "5s - loss: 1.1555e-04\n",
      "Epoch 67/100\n",
      "5s - loss: 1.1256e-04\n",
      "Epoch 68/100\n",
      "5s - loss: 1.1359e-04\n",
      "Epoch 69/100\n",
      "5s - loss: 1.1157e-04\n",
      "Epoch 70/100\n",
      "5s - loss: 1.1452e-04\n",
      "Epoch 71/100\n",
      "5s - loss: 1.1410e-04\n",
      "Epoch 72/100\n",
      "5s - loss: 1.1615e-04\n",
      "Epoch 73/100\n",
      "5s - loss: 1.1369e-04\n",
      "Epoch 74/100\n",
      "5s - loss: 1.1517e-04\n",
      "Epoch 75/100\n",
      "5s - loss: 1.1430e-04\n",
      "Epoch 76/100\n",
      "5s - loss: 1.1581e-04\n",
      "Epoch 77/100\n",
      "5s - loss: 1.1154e-04\n",
      "Epoch 78/100\n",
      "5s - loss: 1.1723e-04\n",
      "Epoch 79/100\n",
      "5s - loss: 1.1268e-04\n",
      "Epoch 80/100\n",
      "5s - loss: 1.1427e-04\n",
      "Epoch 81/100\n",
      "5s - loss: 1.1359e-04\n",
      "Epoch 82/100\n",
      "5s - loss: 1.1706e-04\n",
      "Epoch 83/100\n",
      "5s - loss: 1.1562e-04\n",
      "Epoch 84/100\n",
      "5s - loss: 1.1438e-04\n",
      "Epoch 85/100\n",
      "5s - loss: 1.1704e-04\n",
      "Epoch 86/100\n",
      "5s - loss: 1.1325e-04\n",
      "Epoch 87/100\n",
      "5s - loss: 1.1360e-04\n",
      "Epoch 88/100\n",
      "5s - loss: 1.1552e-04\n",
      "Epoch 89/100\n",
      "5s - loss: 1.1396e-04\n",
      "Epoch 90/100\n",
      "5s - loss: 1.1122e-04\n",
      "Epoch 91/100\n",
      "5s - loss: 1.1140e-04\n",
      "Epoch 92/100\n",
      "5s - loss: 1.1253e-04\n",
      "Epoch 93/100\n",
      "5s - loss: 1.0857e-04\n",
      "Epoch 94/100\n",
      "5s - loss: 1.1583e-04\n",
      "Epoch 95/100\n",
      "5s - loss: 1.1661e-04\n",
      "Epoch 96/100\n",
      "5s - loss: 1.1478e-04\n",
      "Epoch 97/100\n",
      "6s - loss: 1.1276e-04\n",
      "Epoch 98/100\n",
      "5s - loss: 1.1223e-04\n",
      "Epoch 99/100\n",
      "5s - loss: 1.1260e-04\n",
      "Epoch 100/100\n",
      "5s - loss: 1.1398e-04\n"
     ]
    },
    {
     "data": {
      "text/plain": [
       "<keras.callbacks.History at 0x25f05feadd8>"
      ]
     },
     "execution_count": 12,
     "metadata": {},
     "output_type": "execute_result"
    }
   ],
   "source": [
    "model = Sequential()\n",
    "model.add(LSTM(4, input_dim=look_back))\n",
    "model.add(Dense(1))\n",
    "model.compile(loss='mean_squared_error', optimizer='adam')\n",
    "model.fit(trainX, trainY, nb_epoch=100, batch_size=1, verbose=2)"
   ]
  },
  {
   "cell_type": "code",
   "execution_count": 13,
   "metadata": {
    "collapsed": true
   },
   "outputs": [],
   "source": [
    "trainPredict = model.predict(trainX)\n",
    "testPredict = model.predict(testX)"
   ]
  },
  {
   "cell_type": "code",
   "execution_count": 14,
   "metadata": {
    "collapsed": false
   },
   "outputs": [
    {
     "data": {
      "text/plain": [
       "(1520, 1)"
      ]
     },
     "execution_count": 14,
     "metadata": {},
     "output_type": "execute_result"
    }
   ],
   "source": [
    "testPredict.shape"
   ]
  },
  {
   "cell_type": "code",
   "execution_count": 15,
   "metadata": {
    "collapsed": false
   },
   "outputs": [
    {
     "data": {
      "text/plain": [
       "array([[ 0.05559505],\n",
       "       [ 0.05271999],\n",
       "       [ 0.04707202],\n",
       "       ..., \n",
       "       [ 0.82199168],\n",
       "       [ 0.83551657],\n",
       "       [ 0.84600133]], dtype=float32)"
      ]
     },
     "execution_count": 15,
     "metadata": {},
     "output_type": "execute_result"
    }
   ],
   "source": [
    "trainPredict"
   ]
  },
  {
   "cell_type": "code",
   "execution_count": 16,
   "metadata": {
    "collapsed": false
   },
   "outputs": [
    {
     "name": "stderr",
     "output_type": "stream",
     "text": [
      "C:\\Program Files\\Anaconda3\\lib\\site-packages\\sklearn\\preprocessing\\data.py:374: DeprecationWarning: Passing 1d arrays as data is deprecated in 0.17 and will raise ValueError in 0.19. Reshape your data either using X.reshape(-1, 1) if your data has a single feature or X.reshape(1, -1) if it contains a single sample.\n",
      "  warnings.warn(DEPRECATION_MSG_1D, DeprecationWarning)\n",
      "C:\\Program Files\\Anaconda3\\lib\\site-packages\\sklearn\\preprocessing\\data.py:374: DeprecationWarning: Passing 1d arrays as data is deprecated in 0.17 and will raise ValueError in 0.19. Reshape your data either using X.reshape(-1, 1) if your data has a single feature or X.reshape(1, -1) if it contains a single sample.\n",
      "  warnings.warn(DEPRECATION_MSG_1D, DeprecationWarning)\n"
     ]
    }
   ],
   "source": [
    "trainPredict = scaler.inverse_transform(trainPredict)\n",
    "trainY = scaler.inverse_transform(trainY)\n",
    "testPredict = scaler.inverse_transform(testPredict)\n",
    "testY = scaler.inverse_transform(testY)"
   ]
  },
  {
   "cell_type": "code",
   "execution_count": 17,
   "metadata": {
    "collapsed": false
   },
   "outputs": [
    {
     "name": "stdout",
     "output_type": "stream",
     "text": [
      "Train Score: 814.91 RMSE\n",
      "Test Score: 99.10 RMSE\n"
     ]
    }
   ],
   "source": [
    "trainScore = math.sqrt(((trainY[0] - trainPredict[:,0]) ** 2).mean(axis=None))\n",
    "print('Train Score: %.2f RMSE' % (trainScore))\n",
    "testScore = math.sqrt(((testY[0] - testPredict[:,0]) ** 2).mean(axis=None))\n",
    "print('Test Score: %.2f RMSE' % (testScore))\n",
    "# shift train predictions for plotting"
   ]
  },
  {
   "cell_type": "code",
   "execution_count": 18,
   "metadata": {
    "collapsed": false
   },
   "outputs": [],
   "source": [
    "trainPredictPlot = np.zeros_like(dataset)\n",
    "trainPredictPlot[look_back:len(trainPredict)+look_back] = trainPredict[:,0]"
   ]
  },
  {
   "cell_type": "code",
   "execution_count": 19,
   "metadata": {
    "collapsed": true
   },
   "outputs": [],
   "source": [
    "testPredictPlot = np.zeros_like(dataset)\n",
    "testPredictPlot[len(trainPredict)+(look_back*2)+1:len(dataset)-1] = testPredict[:,0]"
   ]
  },
  {
   "cell_type": "code",
   "execution_count": 20,
   "metadata": {
    "collapsed": false
   },
   "outputs": [
    {
     "name": "stderr",
     "output_type": "stream",
     "text": [
      "C:\\Program Files\\Anaconda3\\lib\\site-packages\\sklearn\\preprocessing\\data.py:374: DeprecationWarning: Passing 1d arrays as data is deprecated in 0.17 and will raise ValueError in 0.19. Reshape your data either using X.reshape(-1, 1) if your data has a single feature or X.reshape(1, -1) if it contains a single sample.\n",
      "  warnings.warn(DEPRECATION_MSG_1D, DeprecationWarning)\n"
     ]
    },
    {
     "data": {
      "text/plain": [
       "[<matplotlib.lines.Line2D at 0x25f0654fd30>]"
      ]
     },
     "execution_count": 20,
     "metadata": {},
     "output_type": "execute_result"
    }
   ],
   "source": [
    "plt.plot(scaler.inverse_transform(dataset))"
   ]
  },
  {
   "cell_type": "code",
   "execution_count": 21,
   "metadata": {
    "collapsed": false
   },
   "outputs": [
    {
     "data": {
      "text/plain": [
       "[<matplotlib.lines.Line2D at 0x25f7d0064e0>]"
      ]
     },
     "execution_count": 21,
     "metadata": {},
     "output_type": "execute_result"
    }
   ],
   "source": [
    "plt.plot(trainPredictPlot)"
   ]
  },
  {
   "cell_type": "code",
   "execution_count": 22,
   "metadata": {
    "collapsed": false
   },
   "outputs": [
    {
     "data": {
      "text/plain": [
       "[<matplotlib.lines.Line2D at 0x25f06531f28>]"
      ]
     },
     "execution_count": 22,
     "metadata": {},
     "output_type": "execute_result"
    }
   ],
   "source": [
    "plt.plot(testPredictPlot)"
   ]
  },
  {
   "cell_type": "code",
   "execution_count": 23,
   "metadata": {
    "collapsed": false
   },
   "outputs": [
    {
     "data": {
      "image/png": "[encoded data removed]",
      "text/plain": [
       "<matplotlib.figure.Figure at 0x25f7d006be0>"
      ]
     },
     "metadata": {},
     "output_type": "display_data"
    }
   ],
   "source": [
    "plt.show()"
   ]
  },
  {
   "cell_type": "markdown",
   "metadata": {
    "collapsed": false
   },
   "source": [
    "trainPredictPlot = np.empty_like(dataset)\n",
    "print(trainPredictPlot.shape)\n",
    "trainPredictPlot[:] = np.nan\n",
    "print(trainPredictPlot.shape)\n",
    "trainPredictPlot[look_back:len(trainPredict)+look_back] = trainPredict[:,0]\n",
    "# shift test predictions for plotting"
   ]
  },
  {
   "cell_type": "code",
   "execution_count": null,
   "metadata": {
    "collapsed": true
   },
   "outputs": [],
   "source": []
  }
 ],
 "metadata": {
  "anaconda-cloud": {},
  "kernelspec": {
   "display_name": "Python [default]",
   "language": "python",
   "name": "python3"
  },
  "language_info": {
   "codemirror_mode": {
    "name": "ipython",
    "version": 3
   },
   "file_extension": ".py",
   "mimetype": "text/x-python",
   "name": "python",
   "nbconvert_exporter": "python",
   "pygments_lexer": "ipython3",
   "version": "3.5.2"
  }
 },
 "nbformat": 4,
 "nbformat_minor": 1
}
