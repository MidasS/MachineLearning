{
 "cells": [
  {
   "cell_type": "code",
   "execution_count": 29,
   "metadata": {
    "collapsed": true
   },
   "outputs": [],
   "source": [
    "import numpy as np\n",
    "import matplotlib.pyplot as plt\n",
    "from sklearn import svm, preprocessing\n",
    "import pandas as pd\n",
    "from matplotlib import style\n",
    "import math"
   ]
  },
  {
   "cell_type": "code",
   "execution_count": 30,
   "metadata": {
    "collapsed": false
   },
   "outputs": [],
   "source": [
    "df = pd.DataFrame.from_csv(\"TimeTablerff.csv\")"
   ]
  },
  {
   "cell_type": "code",
   "execution_count": 44,
   "metadata": {
    "collapsed": false,
    "scrolled": true
   },
   "outputs": [],
   "source": [
    "# df"
   ]
  },
  {
   "cell_type": "code",
   "execution_count": 32,
   "metadata": {
    "collapsed": false,
    "scrolled": true
   },
   "outputs": [
    {
     "data": {
      "text/plain": [
       "pandas.tseries.index.DatetimeIndex"
      ]
     },
     "execution_count": 32,
     "metadata": {},
     "output_type": "execute_result"
    }
   ],
   "source": [
    "type(df.index)"
   ]
  },
  {
   "cell_type": "code",
   "execution_count": 33,
   "metadata": {
    "collapsed": false
   },
   "outputs": [],
   "source": [
    "x = np.array(df.index)"
   ]
  },
  {
   "cell_type": "code",
   "execution_count": 45,
   "metadata": {
    "collapsed": false
   },
   "outputs": [],
   "source": [
    "y = []\n",
    "for i in df.columns:\n",
    "    y.append(i)\n",
    "\n",
    "# print(y)"
   ]
  },
  {
   "cell_type": "code",
   "execution_count": 35,
   "metadata": {
    "collapsed": false
   },
   "outputs": [
    {
     "data": {
      "text/plain": [
       "'Birthrate'"
      ]
     },
     "execution_count": 35,
     "metadata": {},
     "output_type": "execute_result"
    }
   ],
   "source": [
    "y[0]"
   ]
  },
  {
   "cell_type": "code",
   "execution_count": 55,
   "metadata": {
    "collapsed": false
   },
   "outputs": [],
   "source": [
    "def yvalue(y1,y2):\n",
    "    \n",
    "    try:\n",
    "        yy1 = []\n",
    "        y1name = y1\n",
    "        y2name = y2\n",
    "        for i in range(len(df.index)):\n",
    "            yy1.append(float(np.array(df[y1].values.tolist())[i].replace(\",\",\"\")))\n",
    "            \n",
    "        yy2 = np.array(df[y2].values.tolist())\n",
    "        corr = np.corrcoef(yy1,yy2)[0,1]\n",
    "\n",
    "    except: \n",
    "        \n",
    "        try:\n",
    "            yy2 = []\n",
    "            y1name = y1\n",
    "            y2name = y2\n",
    "            yy1 = np.array(df[y1].values.tolist())\n",
    "            for i in range(len(df.index)):\n",
    "                yy2.append(float(np.array(df[y2].values.tolist())[i].replace(\",\",\"\")))\n",
    "            corr = np.corrcoef(yy1,yy2)[0,1]\n",
    "            \n",
    "        except:\n",
    "            y1name = y1\n",
    "            y2name = y2\n",
    "            yy1 = np.array(df[y1].values.tolist())\n",
    "            yy2 = np.array(df[y2].values.tolist())\n",
    "            corr = np.corrcoef(yy1,yy2)[0,1]\n",
    "            \n",
    "\n",
    "    return print(\"{0}과 {1}의 상관계수는 {2} 입니다\".format(y1name,y2name,corr))"
   ]
  },
  {
   "cell_type": "code",
   "execution_count": 56,
   "metadata": {
    "collapsed": false,
    "scrolled": true
   },
   "outputs": [],
   "source": [
    "# for i in range (0,16):\n",
    "#     yvalue(y[i],y[i+1])\n"
   ]
  },
  {
   "cell_type": "code",
   "execution_count": 47,
   "metadata": {
    "collapsed": true
   },
   "outputs": [],
   "source": [
    "def valuelist(column):\n",
    "    y = np.array(df[column].values.tolist())\n",
    "    yp = preprocessing.scale(y)\n",
    "    return yp"
   ]
  },
  {
   "cell_type": "code",
   "execution_count": 50,
   "metadata": {
    "collapsed": false
   },
   "outputs": [],
   "source": [
    "y = np.array(df['Birthrate'].values.tolist())\n",
    "yp = preprocessing.scale(y)\n",
    "y2 = np.array(df['Deathrate'].values.tolist())\n",
    "y2p = preprocessing.scale(y2)"
   ]
  },
  {
   "cell_type": "code",
   "execution_count": 52,
   "metadata": {
    "collapsed": false,
    "scrolled": true
   },
   "outputs": [
    {
     "data": {
      "text/plain": [
       "array([ 2.34250758,  2.34250758,  1.19421955,  0.04593152,  1.19421955,\n",
       "        0.62007554,  0.04593152,  0.04593152,  0.04593152,  0.04593152,\n",
       "        0.04593152, -1.10235651, -0.52821249, -0.52821249, -1.10235651,\n",
       "       -1.10235651, -1.10235651, -1.10235651, -1.10235651, -1.10235651,\n",
       "       -0.52821249, -0.52821249,  0.62007554,  0.62007554,  0.62007554])"
      ]
     },
     "execution_count": 52,
     "metadata": {},
     "output_type": "execute_result"
    }
   ],
   "source": [
    "y2p"
   ]
  },
  {
   "cell_type": "code",
   "execution_count": 53,
   "metadata": {
    "collapsed": false
   },
   "outputs": [],
   "source": [
    "new_y = pd.rolling_mean(y,3)"
   ]
  },
  {
   "cell_type": "code",
   "execution_count": 54,
   "metadata": {
    "collapsed": true
   },
   "outputs": [],
   "source": [
    "plt.plot(x, yp, 'r-', x, y2p, 'b--')\n",
    "plt.show()"
   ]
  },
  {
   "cell_type": "code",
   "execution_count": 20,
   "metadata": {
    "collapsed": false
   },
   "outputs": [
    {
     "data": {
      "text/plain": [
       "0.66199773892998814"
      ]
     },
     "execution_count": 20,
     "metadata": {},
     "output_type": "execute_result"
    }
   ],
   "source": [
    "np.corrcoef(y,y2)[0,1]"
   ]
  },
  {
   "cell_type": "code",
   "execution_count": null,
   "metadata": {
    "collapsed": true
   },
   "outputs": [],
   "source": []
  }
 ],
 "metadata": {
  "kernelspec": {
   "display_name": "Python 3",
   "language": "python",
   "name": "python3"
  },
  "language_info": {
   "codemirror_mode": {
    "name": "ipython",
    "version": 3
   },
   "file_extension": ".py",
   "mimetype": "text/x-python",
   "name": "python",
   "nbconvert_exporter": "python",
   "pygments_lexer": "ipython3",
   "version": "3.4.3"
  }
 },
 "nbformat": 4,
 "nbformat_minor": 0
}
