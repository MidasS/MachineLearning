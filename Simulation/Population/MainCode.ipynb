{
 "cells": [
  {
   "cell_type": "code",
   "execution_count": 2,
   "metadata": {
    "collapsed": true
   },
   "outputs": [],
   "source": [
    "import numpy as np\n",
    "import matplotlib.pyplot as plt\n",
    "import pandas as pd\n",
    "\n",
    "from sklearn import svm, preprocessing\n",
    "from matplotlib import style\n",
    "from mpl_toolkits.mplot3d import Axes3D\n",
    "from sklearn.cross_validation import cross_val_score\n",
    "from sklearn.grid_search import GridSearchCV\n",
    "style.use(\"ggplot\")\n",
    "import pylab, random"
   ]
  },
  {
   "cell_type": "code",
   "execution_count": 3,
   "metadata": {
    "collapsed": true
   },
   "outputs": [],
   "source": [
    "FEATURES = ['RND_ratio','GDP_per_Asset','Kospi','Patent_per_Million','LP_per_Hour','PL_ratio','LB_ratio','IAD_ratio','Emp_ratio','GNP_per_Man','GDP_per_Cab','GNI_per_Trade','GDP_per_Inv','1_IND','2_IND','3_IND','PBR_per_man','IS_ratio','CPI','CE_per_Man','WAGE_Gap','GINI','BR_per_1000','DR_per_1000','Migration']"
   ]
  },
  {
   "cell_type": "code",
   "execution_count": 4,
   "metadata": {
    "collapsed": false
   },
   "outputs": [
    {
     "name": "stdout",
     "output_type": "stream",
     "text": [
      "[15.2, 16.4, 16.7, 16.0, 16.0, 15.7, 15.0, 14.4, 13.6, 13.0, 13.3, 11.6, 10.2, 10.2, 9.8, 8.9, 9.2, 10.0, 9.4, 9.0, 9.4, 9.4, 9.6, 8.6] [696.11, 610.92, 678.44, 866.18, 1027.37, 882.94, 651.22, 376.31, 562.46, 1028.07, 504.62, 693.7, 627.55, 810.71, 895.92, 1379.37, 1434.46, 1897.13, 1124.47, 1682.77, 2051.0, 1825.74, 1997.05, 2011.34]\n"
     ]
    },
    {
     "data": {
      "text/plain": [
       "DatetimeIndex(['1990-01-01', '1991-01-01', '1992-01-01', '1993-01-01',\n",
       "               '1994-01-01', '1995-01-01', '1996-01-01', '1997-01-01',\n",
       "               '1998-01-01', '1999-01-01', '2000-01-01', '2001-01-01',\n",
       "               '2002-01-01', '2003-01-01', '2004-01-01', '2005-01-01',\n",
       "               '2006-01-01', '2007-01-01', '2008-01-01', '2009-01-01',\n",
       "               '2010-01-01', '2011-01-01', '2012-01-01', '2013-01-01'],\n",
       "              dtype='datetime64[ns]', name='﻿', freq=None, tz=None)"
      ]
     },
     "execution_count": 4,
     "metadata": {},
     "output_type": "execute_result"
    }
   ],
   "source": [
    "df = pd.DataFrame.from_csv(\"Data_set_02.csv\")\n",
    "# data_df = data_df.reindex(np.random.permutation(data_df.index))\n",
    "\n",
    "\n",
    "X = np.array(df[FEATURES].values)\n",
    "# self.X = preprocessing.scale(self.X)\n",
    "#         print(df.index)\n",
    "# print(X)\n",
    "y = (df[\"BR_per_1000\"].values.tolist())\n",
    "# y = (df[\"BR_per_1000\"].)\n",
    "z =(df[\"Kospi\"].values.tolist())\n",
    "print(y,z)\n",
    "# data_df2 = pd.DataFrame.from_csv(\"new_test3.csv\")\n",
    "# data_df2 = data_df2.reindex(np.random.permutation(data_df2.index))\n",
    "#\n",
    "# self.X2 = np.array(data_df2[self.FEATURES].values)\n",
    "# self.X2 = preprocessing.scale(self.X2)\n",
    "# self.y2 = (data_df2[\"result_2\"].values.tolist())\n",
    "\n",
    "\n",
    "df.index\n"
   ]
  },
  {
   "cell_type": "code",
   "execution_count": 5,
   "metadata": {
    "collapsed": true
   },
   "outputs": [],
   "source": [
    "def pearson(x,y) :\n",
    "    n=len(x)\n",
    "    vals=range(n)\n",
    "\n",
    "    # 합한다.\n",
    "    sumx = sum([float(x[i]) for i in vals])\n",
    "    sumy = sum([float(y[i]) for i in vals])\n",
    "\n",
    "    # 제곱을 합한다.\n",
    "    sumxSq = sum([x[i]**2.0 for i in vals])\n",
    "    sumySq = sum([y[i]**2.0 for i in vals])\n",
    "\n",
    "    # 곱을 합한다.\n",
    "    pSum = sum([x[i]*y[i] for i in vals])\n",
    "\n",
    "    # 피어슨 점수를 계산한다.\n",
    "    num = pSum - (sumx*sumy/n)\n",
    "    den = ((sumxSq-pow(sumx,2)/n)*(sumySq-pow(sumy,2)/n))**.5\n",
    "    if den==0: return 0\n",
    "\n",
    "    r = num/den\n",
    "\n",
    "    return r\n"
   ]
  },
  {
   "cell_type": "code",
   "execution_count": 6,
   "metadata": {
    "collapsed": false
   },
   "outputs": [
    {
     "data": {
      "text/plain": [
       "-0.6853370952757066"
      ]
     },
     "execution_count": 6,
     "metadata": {},
     "output_type": "execute_result"
    }
   ],
   "source": [
    "pearson(y,z)"
   ]
  },
  {
   "cell_type": "code",
   "execution_count": 7,
   "metadata": {
    "collapsed": false
   },
   "outputs": [
    {
     "data": {
      "text/plain": [
       "[696.11,\n",
       " 610.92,\n",
       " 678.44,\n",
       " 866.18,\n",
       " 1027.37,\n",
       " 882.94,\n",
       " 651.22,\n",
       " 376.31,\n",
       " 562.46,\n",
       " 1028.07,\n",
       " 504.62,\n",
       " 693.7,\n",
       " 627.55,\n",
       " 810.71,\n",
       " 895.92,\n",
       " 1379.37,\n",
       " 1434.46,\n",
       " 1897.13,\n",
       " 1124.47,\n",
       " 1682.77,\n",
       " 2051.0,\n",
       " 1825.74,\n",
       " 1997.05,\n",
       " 2011.34]"
      ]
     },
     "execution_count": 7,
     "metadata": {},
     "output_type": "execute_result"
    }
   ],
   "source": [
    "import numpy as np\n",
    "from sklearn.svm import SVR\n",
    "import matplotlib.pyplot as plt\n",
    "\n",
    "###############################################################################\n",
    "# Generate sample data\n",
    "X = np.array(y)\n",
    "y = z\n",
    "###############################################################################\n",
    "y\n",
    "\n",
    "###############################################################################\n",
    "# # Fit regression model\n",
    "# svr_rbf = SVR(kernel='rbf', C=1e3, gamma=0.1)\n",
    "# svr_lin = SVR(kernel='linear', C=1e3)\n",
    "# svr_poly = SVR(kernel='poly', C=1e3, degree=2)\n",
    "# y_rbf = svr_rbf.fit(X, y).predict(X)\n",
    "# y_lin = svr_lin.fit(X, y).predict(X)\n",
    "# y_poly = svr_poly.fit(X, y).predict(X)\n",
    "\n",
    "# ###############################################################################\n",
    "# # look at the results\n",
    "# plt.scatter(X, y, c='k', label='data')\n",
    "# plt.hold('on')\n",
    "# plt.plot(X, y_rbf, c='g', label='RBF model')\n",
    "# plt.plot(X, y_lin, c='r', label='Linear model')\n",
    "# plt.plot(X, y_poly, c='b', label='Polynomial model')\n",
    "# plt.xlabel('data')\n",
    "# plt.ylabel('target')\n",
    "# plt.title('Support Vector Regression')\n",
    "# plt.legend()\n",
    "# plt.show()"
   ]
  },
  {
   "cell_type": "code",
   "execution_count": 8,
   "metadata": {
    "collapsed": false
   },
   "outputs": [
    {
     "name": "stdout",
     "output_type": "stream",
     "text": [
      "[[ 0.07216724]\n",
      " [ 0.09209305]\n",
      " [ 0.13293146]\n",
      " [ 0.26371928]\n",
      " [ 0.41384359]\n",
      " [ 1.18208314]\n",
      " [ 1.28366719]\n",
      " [ 1.39109978]\n",
      " [ 1.55217298]\n",
      " [ 1.62473096]\n",
      " [ 1.63547383]\n",
      " [ 1.65606884]\n",
      " [ 1.90010915]\n",
      " [ 2.07606339]\n",
      " [ 2.18081466]\n",
      " [ 2.22656101]\n",
      " [ 2.2336938 ]\n",
      " [ 2.24299924]\n",
      " [ 2.24591981]\n",
      " [ 2.28208277]\n",
      " [ 2.55213796]\n",
      " [ 2.57759247]\n",
      " [ 2.58508887]\n",
      " [ 2.71651038]\n",
      " [ 2.82376905]\n",
      " [ 2.97056653]\n",
      " [ 2.97368719]\n",
      " [ 3.09810831]\n",
      " [ 3.25278613]\n",
      " [ 3.39977827]\n",
      " [ 3.45847553]\n",
      " [ 3.60460291]\n",
      " [ 3.69330381]\n",
      " [ 3.8484826 ]\n",
      " [ 4.11480261]\n",
      " [ 4.13176081]\n",
      " [ 4.36696033]\n",
      " [ 4.74626156]\n",
      " [ 4.82323371]\n",
      " [ 4.83963378]]\n",
      "[ 0.07210462  0.09196293  0.1325403   0.26067304  0.40213141  0.92539753\n",
      "  0.95906085  0.98389798  0.99982659  0.99854588  0.99790914  0.9963665\n",
      "  0.94626479  0.87504524  0.81963752  0.79258188  0.78821243  0.78245179\n",
      "  0.78062978  0.7575227   0.55590782  0.53457111  0.52822077  0.41239574\n",
      "  0.31249991  0.17019359  0.16711763  0.04347064 -0.11096448 -0.25532673\n",
      " -0.31160616 -0.44664344 -0.52414526 -0.64947208 -0.82669605 -0.83611823\n",
      " -0.9409304  -0.99942638 -0.99386301 -0.9919153 ]\n"
     ]
    }
   ],
   "source": [
    "import numpy as np\n",
    "from sklearn.svm import SVR\n",
    "import matplotlib.pyplot as plt\n",
    "\n",
    "###############################################################################\n",
    "# Generate sample data\n",
    "X = np.sort(5 * np.random.rand(40, 1), axis=0)\n",
    "print(X)\n",
    "y = np.sin(X).ravel()\n",
    "print(y)\n",
    "###############################################################################\n",
    "# Add noise to targets\n",
    "y[::5] += 3 * (0.5 - np.random.rand(8))\n",
    "\n",
    "###############################################################################\n",
    "# Fit regression model\n",
    "svr_rbf = SVR(kernel='rbf', C=1e3, gamma=0.1)\n",
    "svr_lin = SVR(kernel='linear', C=1e3)\n",
    "svr_poly = SVR(kernel='poly', C=1e3, degree=2)\n",
    "y_rbf = svr_rbf.fit(X, y).predict(X)\n",
    "y_lin = svr_lin.fit(X, y).predict(X)\n",
    "y_poly = svr_poly.fit(X, y).predict(X)\n",
    "\n",
    "###############################################################################\n",
    "# look at the results\n",
    "plt.scatter(X, y, c='k', label='data')\n",
    "plt.hold('on')\n",
    "plt.plot(X, y_rbf, c='g', label='RBF model')\n",
    "plt.plot(X, y_lin, c='r', label='Linear model')\n",
    "plt.plot(X, y_poly, c='b', label='Polynomial model')\n",
    "plt.xlabel('data')\n",
    "plt.ylabel('target')\n",
    "plt.title('Support Vector Regression')\n",
    "plt.legend()\n",
    "plt.show()"
   ]
  },
  {
   "cell_type": "code",
   "execution_count": null,
   "metadata": {
    "collapsed": true
   },
   "outputs": [],
   "source": []
  }
 ],
 "metadata": {
  "kernelspec": {
   "display_name": "Python 3",
   "language": "python",
   "name": "python3"
  },
  "language_info": {
   "codemirror_mode": {
    "name": "ipython",
    "version": 3
   },
   "file_extension": ".py",
   "mimetype": "text/x-python",
   "name": "python",
   "nbconvert_exporter": "python",
   "pygments_lexer": "ipython3",
   "version": "3.4.3"
  }
 },
 "nbformat": 4,
 "nbformat_minor": 0
}
