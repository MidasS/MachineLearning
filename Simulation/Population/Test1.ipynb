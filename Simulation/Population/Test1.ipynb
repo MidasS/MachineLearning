{
 "cells": [
  {
   "cell_type": "code",
   "execution_count": 2,
   "metadata": {
    "collapsed": true
   },
   "outputs": [],
   "source": [
    "import numpy as np\n",
    "import matplotlib.pyplot as plt\n",
    "import pandas as pd\n",
    "from sklearn.svm import SVR\n",
    "\n",
    "from sklearn import svm, preprocessing\n",
    "from matplotlib import style\n",
    "from mpl_toolkits.mplot3d import Axes3D\n",
    "from sklearn.cross_validation import cross_val_score\n",
    "from sklearn.grid_search import GridSearchCV\n",
    "style.use(\"ggplot\")\n",
    "import pylab, random"
   ]
  },
  {
   "cell_type": "code",
   "execution_count": 3,
   "metadata": {
    "collapsed": true
   },
   "outputs": [],
   "source": [
    "FEATURES = ['RND_ratio','GDP_per_Asset','Kospi','Patent_per_Million','LP_per_Hour','PL_ratio','LB_ratio','IAD_ratio','Emp_ratio','GNP_per_Man','GDP_per_Cab','GNI_per_Trade','GDP_per_Inv','1_IND','2_IND','3_IND','PBR_per_man','IS_ratio','CPI','CE_per_Man','WAGE_Gap','GINI','BR_per_1000','DR_per_1000','Migration']"
   ]
  },
  {
   "cell_type": "code",
   "execution_count": 31,
   "metadata": {
    "collapsed": false,
    "scrolled": true
   },
   "outputs": [
    {
     "name": "stdout",
     "output_type": "stream",
     "text": [
      "(24, 1)\n",
      "[[ 3.9]\n",
      " [ 3.9]\n",
      " [ 4.1]\n",
      " [ 4.2]\n",
      " [ 4.3]\n",
      " [ 4.3]\n",
      " [ 4.6]\n",
      " [ 5.3]\n",
      " [ 5.8]\n",
      " [ 5.7]\n",
      " [ 5.7]\n",
      " [ 5.8]\n",
      " [ 6.3]\n",
      " [ 6.4]\n",
      " [ 6.3]\n",
      " [ 6.7]\n",
      " [ 7.2]\n",
      " [ 7.7]\n",
      " [ 7.8]\n",
      " [ 8.2]\n",
      " [ 8.2]\n",
      " [ 8.5]\n",
      " [ 8.8]\n",
      " [ 8.9]]\n",
      "[ 15.2  16.4  16.7  16.   16.   15.7  15.   14.4  13.6  13.   13.3  11.6\n",
      "  10.2  10.2   9.8   8.9   9.2  10.    9.4   9.    9.4   9.4   9.6   8.6]\n"
     ]
    }
   ],
   "source": [
    "df = pd.DataFrame.from_csv(\"Data_set_02.csv\")\n",
    "# data_df = data_df.reindex(np.random.permutation(data_df.index))\n",
    "\n",
    "\n",
    "data_X = np.array(df[FEATURES].values)\n",
    "# self.X = preprocessing.scale(self.X)\n",
    "#         print(df.index)\n",
    "# print(X)\n",
    "data_y =(df[\"GDP_per_Asset\"].values)\n",
    "data_z = (df[\"BR_per_1000\"].values)\n",
    "# y = (df[\"BR_per_1000\"].)\n",
    "\n",
    "\n",
    "new_y = np.array(data_y)\n",
    "new_y= new_y.reshape(-1,1)\n",
    "print(new_y.shape)\n",
    "\n",
    "new_z = np.array(data_z)\n",
    "print(new_y)\n",
    "print(new_z)"
   ]
  },
  {
   "cell_type": "code",
   "execution_count": 32,
   "metadata": {
    "collapsed": false
   },
   "outputs": [],
   "source": [
    "\n",
    "# Fit regression model\n",
    "svr_rbf = SVR(kernel='rbf', C=1e3, gamma=0.1)\n",
    "svr_lin = SVR(kernel='linear', C=1e3)\n",
    "svr_poly = SVR(kernel='poly', C=1e3, degree=2)\n",
    "y_rbf = svr_rbf.fit(new_y, new_z).predict(new_y)\n",
    "y_lin = svr_lin.fit(new_y, new_z).predict(new_y)\n",
    "y_poly = svr_poly.fit(new_y, new_z).predict(new_y)\n",
    "\n",
    "###############################################################################\n",
    "# look at the results\n",
    "plt.scatter(new_y, new_z, c='k', label='data')\n",
    "plt.hold('on')\n",
    "plt.plot(new_y, y_rbf, c='g', label='RBF model')\n",
    "plt.plot(new_y, y_lin, c='r', label='Linear model')\n",
    "plt.plot(new_y, y_poly, c='b', label='Polynomial model')\n",
    "plt.xlabel('GDP_per_Asset')\n",
    "plt.ylabel('Birthrate')\n",
    "plt.title('Support Vector Regression')\n",
    "plt.legend()\n",
    "plt.show()"
   ]
  },
  {
   "cell_type": "code",
   "execution_count": null,
   "metadata": {
    "collapsed": true
   },
   "outputs": [],
   "source": []
  },
  {
   "cell_type": "code",
   "execution_count": null,
   "metadata": {
    "collapsed": true
   },
   "outputs": [],
   "source": []
  },
  {
   "cell_type": "code",
   "execution_count": null,
   "metadata": {
    "collapsed": true
   },
   "outputs": [],
   "source": []
  }
 ],
 "metadata": {
  "kernelspec": {
   "display_name": "Python 3",
   "language": "python",
   "name": "python3"
  },
  "language_info": {
   "codemirror_mode": {
    "name": "ipython",
    "version": 3
   },
   "file_extension": ".py",
   "mimetype": "text/x-python",
   "name": "python",
   "nbconvert_exporter": "python",
   "pygments_lexer": "ipython3",
   "version": "3.4.3"
  }
 },
 "nbformat": 4,
 "nbformat_minor": 0
}
